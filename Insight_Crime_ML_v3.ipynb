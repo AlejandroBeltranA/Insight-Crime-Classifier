{
  "nbformat": 4,
  "nbformat_minor": 0,
  "metadata": {
    "colab": {
      "name": "Insight_Crime_ML_v3.ipynb",
      "provenance": [],
      "collapsed_sections": [],
      "include_colab_link": true
    },
    "kernelspec": {
      "name": "python3",
      "display_name": "Python 3"
    }
  },
  "cells": [
    {
      "cell_type": "markdown",
      "metadata": {
        "id": "view-in-github",
        "colab_type": "text"
      },
      "source": [
        "<a href=\"https://colab.research.google.com/github/AlejandroBeltranA/Insight-Crime-Classifier/blob/master/Insight_Crime_ML_v3.ipynb\" target=\"_parent\"><img src=\"https://colab.research.google.com/assets/colab-badge.svg\" alt=\"Open In Colab\"/></a>"
      ]
    },
    {
      "cell_type": "markdown",
      "metadata": {
        "id": "RiJIU9rbVOKr",
        "colab_type": "text"
      },
      "source": [
        "# Insight Crime Text Classifier\n",
        "\n",
        "This script uses news articles scraped from https://www.insightcrime.org/category/news/ to build a text classifier. Each article contains a variety of tags that classify what the main topic of each article is, we exploit these tags to train a model with minimal external classification. \n",
        "\n"
      ]
    },
    {
      "cell_type": "markdown",
      "metadata": {
        "id": "mEHOYvkIuDBV",
        "colab_type": "text"
      },
      "source": [
        "Mount your google drive so that the script can access the file used in this script. "
      ]
    },
    {
      "cell_type": "code",
      "metadata": {
        "id": "q_zIe_7mqw1z",
        "colab_type": "code",
        "colab": {
          "base_uri": "https://localhost:8080/",
          "height": 126
        },
        "outputId": "7c4e59ab-53ce-42d2-9f66-0e8d29d06fdd"
      },
      "source": [
        "from google.colab import drive\n",
        "drive.mount('/content/drive')"
      ],
      "execution_count": null,
      "outputs": [
        {
          "output_type": "stream",
          "text": [
            "Go to this URL in a browser: https://accounts.google.com/o/oauth2/auth?client_id=947318989803-6bn6qk8qdgf4n4g3pfee6491hc0brc4i.apps.googleusercontent.com&redirect_uri=urn%3aietf%3awg%3aoauth%3a2.0%3aoob&response_type=code&scope=email%20https%3a%2f%2fwww.googleapis.com%2fauth%2fdocs.test%20https%3a%2f%2fwww.googleapis.com%2fauth%2fdrive%20https%3a%2f%2fwww.googleapis.com%2fauth%2fdrive.photos.readonly%20https%3a%2f%2fwww.googleapis.com%2fauth%2fpeopleapi.readonly\n",
            "\n",
            "Enter your authorization code:\n",
            "··········\n",
            "Mounted at /content/drive\n"
          ],
          "name": "stdout"
        }
      ]
    },
    {
      "cell_type": "markdown",
      "metadata": {
        "id": "vTQytHgGakY5",
        "colab_type": "text"
      },
      "source": [
        ""
      ]
    },
    {
      "cell_type": "code",
      "metadata": {
        "id": "1TLtyl1dq6u5",
        "colab_type": "code",
        "colab": {
          "base_uri": "https://localhost:8080/",
          "height": 52
        },
        "outputId": "ea199954-7479-45d2-b0a8-4e4e4b2f76a8"
      },
      "source": [
        "%cd /content/drive/\n",
        "!ls\n"
      ],
      "execution_count": null,
      "outputs": [
        {
          "output_type": "stream",
          "text": [
            "/content/drive\n",
            "'My Drive'\n"
          ],
          "name": "stdout"
        }
      ]
    },
    {
      "cell_type": "code",
      "metadata": {
        "id": "ccHo_O2RrEpQ",
        "colab_type": "code",
        "colab": {}
      },
      "source": [
        "import pandas as pd"
      ],
      "execution_count": null,
      "outputs": []
    },
    {
      "cell_type": "markdown",
      "metadata": {
        "id": "DCeYOAgGs7If",
        "colab_type": "text"
      },
      "source": [
        "Let's read in the csv file created from the spider crawl. Make sure encoding is utf-8 and we are dropping rows with no observations. "
      ]
    },
    {
      "cell_type": "code",
      "metadata": {
        "id": "7-h4VGEX19RD",
        "colab_type": "code",
        "colab": {}
      },
      "source": [
        "df = pd.read_csv('My Drive/Data/Insight Crime/models/data/InsightCrime_News.csv', encoding='utf-8').dropna()\n"
      ],
      "execution_count": null,
      "outputs": []
    },
    {
      "cell_type": "markdown",
      "metadata": {
        "id": "Rp6ib1rNuaGo",
        "colab_type": "text"
      },
      "source": [
        "Here's a preview of the data frame. Includes author, content, date, tags, title, type, and url. "
      ]
    },
    {
      "cell_type": "code",
      "metadata": {
        "id": "LaWVPOCdteP_",
        "colab_type": "code",
        "colab": {}
      },
      "source": [
        "df = df.drop(['author', 'date', 'url', 'type'], axis=1)\n"
      ],
      "execution_count": null,
      "outputs": []
    },
    {
      "cell_type": "code",
      "metadata": {
        "id": "fy9BeuvEs51s",
        "colab_type": "code",
        "colab": {
          "base_uri": "https://localhost:8080/",
          "height": 411
        },
        "outputId": "b0dbed96-b72d-4644-aef7-d8c48e69cb48"
      },
      "source": [
        "df"
      ],
      "execution_count": null,
      "outputs": [
        {
          "output_type": "execute_result",
          "data": {
            "text/html": [
              "<div>\n",
              "<style scoped>\n",
              "    .dataframe tbody tr th:only-of-type {\n",
              "        vertical-align: middle;\n",
              "    }\n",
              "\n",
              "    .dataframe tbody tr th {\n",
              "        vertical-align: top;\n",
              "    }\n",
              "\n",
              "    .dataframe thead th {\n",
              "        text-align: right;\n",
              "    }\n",
              "</style>\n",
              "<table border=\"1\" class=\"dataframe\">\n",
              "  <thead>\n",
              "    <tr style=\"text-align: right;\">\n",
              "      <th></th>\n",
              "      <th>content</th>\n",
              "      <th>tags</th>\n",
              "      <th>title</th>\n",
              "    </tr>\n",
              "  </thead>\n",
              "  <tbody>\n",
              "    <tr>\n",
              "      <th>0</th>\n",
              "      <td>Protests broke out in Bolivia last year in the...</td>\n",
              "      <td>Bolivia,Cocaine,Elites and Organized Crime,Inf...</td>\n",
              "      <td>Bolivia Investigations Target Members of Evo M...</td>\n",
              "    </tr>\n",
              "    <tr>\n",
              "      <th>1</th>\n",
              "      <td>Increased security of containers entering the ...</td>\n",
              "      <td>Brazil,Cocaine,European Organized Crime,Securi...</td>\n",
              "      <td>Can Port of Antwerp Truly Stem Cocaine Enterin...</td>\n",
              "    </tr>\n",
              "    <tr>\n",
              "      <th>2</th>\n",
              "      <td>The sight of children bearing arms in Guerrero...</td>\n",
              "      <td>Homicides,Mexico</td>\n",
              "      <td>Los Ardillos Continue Terrorizing Indigenous C...</td>\n",
              "    </tr>\n",
              "    <tr>\n",
              "      <th>3</th>\n",
              "      <td>Helena is one of the many former FARC members ...</td>\n",
              "      <td>Colombia,FARC,FARC peace,Gender and Organized ...</td>\n",
              "      <td>Former FARC Guerrillas Recognized as Victims o...</td>\n",
              "    </tr>\n",
              "    <tr>\n",
              "      <th>4</th>\n",
              "      <td>Luis Del Río Jiménez, alias “el Tío,” or “Seño...</td>\n",
              "      <td>Colombia,Elites and Organized Crime</td>\n",
              "      <td>Was ‘Señor T’ One of Colombia’s Invisible Drug...</td>\n",
              "    </tr>\n",
              "    <tr>\n",
              "      <th>...</th>\n",
              "      <td>...</td>\n",
              "      <td>...</td>\n",
              "      <td>...</td>\n",
              "    </tr>\n",
              "    <tr>\n",
              "      <th>15764</th>\n",
              "      <td>SHARE\\nLa captura de Daniel “El Loco” Barrera ...</td>\n",
              "      <td>El Loco Barrera,Venezuela</td>\n",
              "      <td>El arresto del ‘Loco Barrera’ muestra a Venezu...</td>\n",
              "    </tr>\n",
              "    <tr>\n",
              "      <th>15765</th>\n",
              "      <td>SHARE\\nEl informe\\nelaborado por el inspector ...</td>\n",
              "      <td>Frontera EU/México,Tráfico de armas</td>\n",
              "      <td>Veredicto sobre la Operación ‘Rápido y Furioso’</td>\n",
              "    </tr>\n",
              "    <tr>\n",
              "      <th>15766</th>\n",
              "      <td>SHARE\\nFalsos periodistas de la cadena Televis...</td>\n",
              "      <td>Costa Rica,Lavado de dinero,Nicaragua</td>\n",
              "      <td>Falsos Periodistas Acusados por los Delitos de...</td>\n",
              "    </tr>\n",
              "    <tr>\n",
              "      <th>15767</th>\n",
              "      <td>SHARE\\nEn lo corrido del año, la Secretaría de...</td>\n",
              "      <td>México</td>\n",
              "      <td>Aproximadamente 8.000 Detenidos por Narcotráfi...</td>\n",
              "    </tr>\n",
              "    <tr>\n",
              "      <th>15768</th>\n",
              "      <td>SHARE\\nLuego de retirarse del país en 1994 por...</td>\n",
              "      <td>Uruguay</td>\n",
              "      <td>La DEA Vuelve a Pisar Uruguay</td>\n",
              "    </tr>\n",
              "  </tbody>\n",
              "</table>\n",
              "<p>15655 rows × 3 columns</p>\n",
              "</div>"
            ],
            "text/plain": [
              "                                                 content  ...                                              title\n",
              "0      Protests broke out in Bolivia last year in the...  ...  Bolivia Investigations Target Members of Evo M...\n",
              "1      Increased security of containers entering the ...  ...  Can Port of Antwerp Truly Stem Cocaine Enterin...\n",
              "2      The sight of children bearing arms in Guerrero...  ...  Los Ardillos Continue Terrorizing Indigenous C...\n",
              "3      Helena is one of the many former FARC members ...  ...  Former FARC Guerrillas Recognized as Victims o...\n",
              "4      Luis Del Río Jiménez, alias “el Tío,” or “Seño...  ...  Was ‘Señor T’ One of Colombia’s Invisible Drug...\n",
              "...                                                  ...  ...                                                ...\n",
              "15764  SHARE\\nLa captura de Daniel “El Loco” Barrera ...  ...  El arresto del ‘Loco Barrera’ muestra a Venezu...\n",
              "15765  SHARE\\nEl informe\\nelaborado por el inspector ...  ...    Veredicto sobre la Operación ‘Rápido y Furioso’\n",
              "15766  SHARE\\nFalsos periodistas de la cadena Televis...  ...  Falsos Periodistas Acusados por los Delitos de...\n",
              "15767  SHARE\\nEn lo corrido del año, la Secretaría de...  ...  Aproximadamente 8.000 Detenidos por Narcotráfi...\n",
              "15768  SHARE\\nLuego de retirarse del país en 1994 por...  ...                      La DEA Vuelve a Pisar Uruguay\n",
              "\n",
              "[15655 rows x 3 columns]"
            ]
          },
          "metadata": {
            "tags": []
          },
          "execution_count": 6
        }
      ]
    },
    {
      "cell_type": "markdown",
      "metadata": {
        "id": "NJjmK_Hbuh0C",
        "colab_type": "text"
      },
      "source": [
        "General list of modules we'll be using. "
      ]
    },
    {
      "cell_type": "code",
      "metadata": {
        "id": "oDcDh_mVUbZ_",
        "colab_type": "code",
        "colab": {
          "base_uri": "https://localhost:8080/",
          "height": 72
        },
        "outputId": "54b5e85f-6566-484f-f0a3-f5ca39261bb5"
      },
      "source": [
        "\n",
        "import pandas as pd\n",
        "import numpy as np\n",
        "import json\n",
        "import nltk\n",
        "import re\n",
        "import csv\n",
        "import matplotlib.pyplot as plt \n",
        "import seaborn as sns\n",
        "from tqdm import tqdm\n",
        "from sklearn.feature_extraction.text import TfidfVectorizer\n",
        "from sklearn.model_selection import train_test_split\n"
      ],
      "execution_count": null,
      "outputs": [
        {
          "output_type": "stream",
          "text": [
            "/usr/local/lib/python3.6/dist-packages/statsmodels/tools/_testing.py:19: FutureWarning: pandas.util.testing is deprecated. Use the functions in the public API at pandas.testing instead.\n",
            "  import pandas.util.testing as tm\n"
          ],
          "name": "stderr"
        }
      ]
    },
    {
      "cell_type": "markdown",
      "metadata": {
        "id": "ypMKnfVeWJNZ",
        "colab_type": "text"
      },
      "source": [
        "The original tags in Insight Crime have a lot of overlap between languages and across topics. So instead of having different tags for \"El Chapo\", \"Cartel de Sinaloa\", and \"Sinaloa Cartel\" we reclassify them all to \"Cartel de Sinaloa\" thus reducing the number of overrall tags. Also, countries appear in English and Spanish spelling, we centralize these to English. The actions were also recoded to be consistent across languages. \n",
        "\n",
        "Read in the reclassified tags. "
      ]
    },
    {
      "cell_type": "code",
      "metadata": {
        "id": "DlP7SJDJWItS",
        "colab_type": "code",
        "colab": {
          "base_uri": "https://localhost:8080/",
          "height": 411
        },
        "outputId": "2bf1fccb-8e58-4006-fe95-13e39bc7a0ae"
      },
      "source": [
        "data = pd.read_csv('My Drive/Data/Insight Crime/models/data/reclassified_tags.csv', encoding='latin-1').fillna(\"\")\n",
        "data = data.drop(['Count', 'Unsure'], axis=1)\n",
        "data"
      ],
      "execution_count": null,
      "outputs": [
        {
          "output_type": "execute_result",
          "data": {
            "text/html": [
              "<div>\n",
              "<style scoped>\n",
              "    .dataframe tbody tr th:only-of-type {\n",
              "        vertical-align: middle;\n",
              "    }\n",
              "\n",
              "    .dataframe tbody tr th {\n",
              "        vertical-align: top;\n",
              "    }\n",
              "\n",
              "    .dataframe thead th {\n",
              "        text-align: right;\n",
              "    }\n",
              "</style>\n",
              "<table border=\"1\" class=\"dataframe\">\n",
              "  <thead>\n",
              "    <tr style=\"text-align: right;\">\n",
              "      <th></th>\n",
              "      <th>Original</th>\n",
              "      <th>Revised</th>\n",
              "    </tr>\n",
              "  </thead>\n",
              "  <tbody>\n",
              "    <tr>\n",
              "      <th>0</th>\n",
              "      <td>Colombia</td>\n",
              "      <td>Colombia</td>\n",
              "    </tr>\n",
              "    <tr>\n",
              "      <th>1</th>\n",
              "      <td>Mexico</td>\n",
              "      <td>Mexico</td>\n",
              "    </tr>\n",
              "    <tr>\n",
              "      <th>2</th>\n",
              "      <td>El Salvador</td>\n",
              "      <td>El Salvador</td>\n",
              "    </tr>\n",
              "    <tr>\n",
              "      <th>3</th>\n",
              "      <td>México</td>\n",
              "      <td>Mexico</td>\n",
              "    </tr>\n",
              "    <tr>\n",
              "      <th>4</th>\n",
              "      <td>Guatemala</td>\n",
              "      <td>Guatemala</td>\n",
              "    </tr>\n",
              "    <tr>\n",
              "      <th>...</th>\n",
              "      <td>...</td>\n",
              "      <td>...</td>\n",
              "    </tr>\n",
              "    <tr>\n",
              "      <th>248</th>\n",
              "      <td>Antonio García</td>\n",
              "      <td>ELN</td>\n",
              "    </tr>\n",
              "    <tr>\n",
              "      <th>249</th>\n",
              "      <td>El Doctor</td>\n",
              "      <td></td>\n",
              "    </tr>\n",
              "    <tr>\n",
              "      <th>250</th>\n",
              "      <td>Hector Beltran Leyva</td>\n",
              "      <td>Organización Beltrán Leyva</td>\n",
              "    </tr>\n",
              "    <tr>\n",
              "      <th>251</th>\n",
              "      <td>Grupos de Perú</td>\n",
              "      <td></td>\n",
              "    </tr>\n",
              "    <tr>\n",
              "      <th>252</th>\n",
              "      <td>Sebastián (oficina)</td>\n",
              "      <td></td>\n",
              "    </tr>\n",
              "  </tbody>\n",
              "</table>\n",
              "<p>253 rows × 2 columns</p>\n",
              "</div>"
            ],
            "text/plain": [
              "                 Original                     Revised\n",
              "0                Colombia                    Colombia\n",
              "1                  Mexico                      Mexico\n",
              "2             El Salvador                 El Salvador\n",
              "3                  México                      Mexico\n",
              "4               Guatemala                   Guatemala\n",
              "..                    ...                         ...\n",
              "248        Antonio García                         ELN\n",
              "249             El Doctor                            \n",
              "250  Hector Beltran Leyva  Organización Beltrán Leyva\n",
              "251        Grupos de Perú                            \n",
              "252   Sebastián (oficina)                            \n",
              "\n",
              "[253 rows x 2 columns]"
            ]
          },
          "metadata": {
            "tags": []
          },
          "execution_count": 8
        }
      ]
    },
    {
      "cell_type": "code",
      "metadata": {
        "id": "Ojb_1GrqXN9w",
        "colab_type": "code",
        "colab": {}
      },
      "source": [
        "#for row in data.itertuples():\n",
        "#  og = row.Original\n",
        "#  og = str(og)        #\"'\"+og+\"'\"\n",
        "#  newnew = row.Revised\n",
        "#  newnew = str(newnew)  #\"'\"+newnew+\"'\"\n",
        "#  df['tags'] = df['tags'].str.replace(og , newnew)\n",
        "#df\n",
        "# This was close to working but I couldn't get the regex right so it would replace the whole word. "
      ],
      "execution_count": null,
      "outputs": []
    },
    {
      "cell_type": "code",
      "metadata": {
        "id": "5iBgxpRj0akP",
        "colab_type": "code",
        "colab": {
          "base_uri": "https://localhost:8080/",
          "height": 35
        },
        "outputId": "b0e27371-6636-4f9e-c0ca-764fabc69123"
      },
      "source": [
        "df['tags'][1]"
      ],
      "execution_count": null,
      "outputs": [
        {
          "output_type": "execute_result",
          "data": {
            "application/vnd.google.colaboratory.intrinsic": {
              "type": "string"
            },
            "text/plain": [
              "'Brazil,Cocaine,European Organized Crime,Security Policy,Suriname'"
            ]
          },
          "metadata": {
            "tags": []
          },
          "execution_count": 9
        }
      ]
    },
    {
      "cell_type": "markdown",
      "metadata": {
        "id": "5tFWMQti0F1S",
        "colab_type": "text"
      },
      "source": [
        "## Revised Tags\n",
        "The goal is to take the tags from the \"Original\" column and replace those with the \"Revised\" tags. Below, I go row by row reviewing the contents in the \"tags\" column of the Insight data. I ask it to search for keywords from the \"Original\" column and then create a new column named \"new_tags\" where we store the revised tag for each word. og is the original tag, newnew is the revised tag. I was having issues with empty tuples so I added conditions that resolve this issue. The if not command confirms whether the tuple is empty or not. This process is slow, I imagine there is a way to speed this up by not looping through itertuples."
      ]
    },
    {
      "cell_type": "code",
      "metadata": {
        "id": "71SNlVpBpQY6",
        "colab_type": "code",
        "colab": {}
      },
      "source": [
        "corpus = []\n",
        "# Let's go row by row in the insight crime data. This is slow, but it works. \n",
        "for i in df.itertuples():\n",
        "  tags = i.tags # the tags assigned by insight crime\n",
        "  text = i.content # the content of each article\n",
        "  title = i.title # the title of each article\n",
        "  new_t = [] # Generate empty list and empty tuple where we will store matches\n",
        "  new_tags = ()\n",
        "  for row in data.itertuples():\n",
        "    og = row.Original # Now I am pulling the original tag from each row on the reclassified_tags csv. \n",
        "    og = r\"\\b\"+og+r\"\\b\" # I am regexing it to only select the full word.\n",
        "    match = re.findall(og, tags) # Search for the tag in the tags column\n",
        "    newnew = row.Revised # Let's save the new revised tag\n",
        "    if not newnew: # If we did not assign a new revised tag, let's skip it. \n",
        "      continue\n",
        "    else:\n",
        "      for matches in match: # But if there is a tag, let's save these new tags.\n",
        "        new_t.append(newnew)\n",
        "        new_tags = ','.join(new_t)\n",
        "  if not new_tags: #If absolutely no tags were found for an article we want to tag it as empty. \n",
        "    new_tags = \"Empty\"\n",
        "  else:\n",
        "    new_tags = new_tags\n",
        "  corpus.append({'content': text , 'title': title, 'new_tags': new_tags, 'tags': tags})\n"
      ],
      "execution_count": null,
      "outputs": []
    },
    {
      "cell_type": "markdown",
      "metadata": {
        "id": "vXvGZ9jUp9J6",
        "colab_type": "text"
      },
      "source": [
        "I was having problems with articles that had no new tags. For example, soccer crime was never assigned a new category so this category was dropped. Articles that were tagged as soccer crime where then reclassified as \"Empty\" in the code above. Here I test out how that process works. "
      ]
    },
    {
      "cell_type": "code",
      "metadata": {
        "id": "iDep1MXLpapx",
        "colab_type": "code",
        "colab": {
          "base_uri": "https://localhost:8080/",
          "height": 35
        },
        "outputId": "efc463e4-2207-4b06-b220-ac3aeeab7a64"
      },
      "source": [
        "  new_tags = (\"Chips\")\n",
        "  if not new_tags: #If absolutely no tags were found for an article we want to tag it as empty. \n",
        "    new_tags = \"Empty\"\n",
        "  else:\n",
        "    print (new_tags)"
      ],
      "execution_count": null,
      "outputs": [
        {
          "output_type": "stream",
          "text": [
            "Chips\n"
          ],
          "name": "stdout"
        }
      ]
    },
    {
      "cell_type": "code",
      "metadata": {
        "id": "kpKY5Z4jq2IB",
        "colab_type": "code",
        "colab": {
          "base_uri": "https://localhost:8080/",
          "height": 581
        },
        "outputId": "995e051a-a509-44d4-870a-6e83305ab736"
      },
      "source": [
        "dta = pd.DataFrame(corpus)\n",
        "dta"
      ],
      "execution_count": null,
      "outputs": [
        {
          "output_type": "execute_result",
          "data": {
            "text/html": [
              "<div>\n",
              "<style scoped>\n",
              "    .dataframe tbody tr th:only-of-type {\n",
              "        vertical-align: middle;\n",
              "    }\n",
              "\n",
              "    .dataframe tbody tr th {\n",
              "        vertical-align: top;\n",
              "    }\n",
              "\n",
              "    .dataframe thead th {\n",
              "        text-align: right;\n",
              "    }\n",
              "</style>\n",
              "<table border=\"1\" class=\"dataframe\">\n",
              "  <thead>\n",
              "    <tr style=\"text-align: right;\">\n",
              "      <th></th>\n",
              "      <th>content</th>\n",
              "      <th>title</th>\n",
              "      <th>new_tags</th>\n",
              "      <th>tags</th>\n",
              "    </tr>\n",
              "  </thead>\n",
              "  <tbody>\n",
              "    <tr>\n",
              "      <th>0</th>\n",
              "      <td>Protests broke out in Bolivia last year in the...</td>\n",
              "      <td>Bolivia Investigations Target Members of Evo M...</td>\n",
              "      <td>Corruption,Bolivia,Drug trafficking</td>\n",
              "      <td>Bolivia,Cocaine,Elites and Organized Crime,Inf...</td>\n",
              "    </tr>\n",
              "    <tr>\n",
              "      <th>1</th>\n",
              "      <td>Increased security of containers entering the ...</td>\n",
              "      <td>Can Port of Antwerp Truly Stem Cocaine Enterin...</td>\n",
              "      <td>Brazil,Law Enforcement,Drug trafficking,Suriname</td>\n",
              "      <td>Brazil,Cocaine,European Organized Crime,Securi...</td>\n",
              "    </tr>\n",
              "    <tr>\n",
              "      <th>2</th>\n",
              "      <td>The sight of children bearing arms in Guerrero...</td>\n",
              "      <td>Los Ardillos Continue Terrorizing Indigenous C...</td>\n",
              "      <td>Mexico,Homicides</td>\n",
              "      <td>Homicides,Mexico</td>\n",
              "    </tr>\n",
              "    <tr>\n",
              "      <th>3</th>\n",
              "      <td>Helena is one of the many former FARC members ...</td>\n",
              "      <td>Former FARC Guerrillas Recognized as Victims o...</td>\n",
              "      <td>Colombia,FARC,FARC</td>\n",
              "      <td>Colombia,FARC,FARC peace,Gender and Organized ...</td>\n",
              "    </tr>\n",
              "    <tr>\n",
              "      <th>4</th>\n",
              "      <td>Luis Del Río Jiménez, alias “el Tío,” or “Seño...</td>\n",
              "      <td>Was ‘Señor T’ One of Colombia’s Invisible Drug...</td>\n",
              "      <td>Colombia,Corruption</td>\n",
              "      <td>Colombia,Elites and Organized Crime</td>\n",
              "    </tr>\n",
              "    <tr>\n",
              "      <th>...</th>\n",
              "      <td>...</td>\n",
              "      <td>...</td>\n",
              "      <td>...</td>\n",
              "      <td>...</td>\n",
              "    </tr>\n",
              "    <tr>\n",
              "      <th>15650</th>\n",
              "      <td>SHARE\\nLa captura de Daniel “El Loco” Barrera ...</td>\n",
              "      <td>El arresto del ‘Loco Barrera’ muestra a Venezu...</td>\n",
              "      <td>Venezuela,Rastrojos</td>\n",
              "      <td>El Loco Barrera,Venezuela</td>\n",
              "    </tr>\n",
              "    <tr>\n",
              "      <th>15651</th>\n",
              "      <td>SHARE\\nEl informe\\nelaborado por el inspector ...</td>\n",
              "      <td>Veredicto sobre la Operación ‘Rápido y Furioso’</td>\n",
              "      <td>Mexico,Arms Trafficking</td>\n",
              "      <td>Frontera EU/México,Tráfico de armas</td>\n",
              "    </tr>\n",
              "    <tr>\n",
              "      <th>15652</th>\n",
              "      <td>SHARE\\nFalsos periodistas de la cadena Televis...</td>\n",
              "      <td>Falsos Periodistas Acusados por los Delitos de...</td>\n",
              "      <td>Money Laundering,Costa Rica,Nicaragua</td>\n",
              "      <td>Costa Rica,Lavado de dinero,Nicaragua</td>\n",
              "    </tr>\n",
              "    <tr>\n",
              "      <th>15653</th>\n",
              "      <td>SHARE\\nEn lo corrido del año, la Secretaría de...</td>\n",
              "      <td>Aproximadamente 8.000 Detenidos por Narcotráfi...</td>\n",
              "      <td>Mexico</td>\n",
              "      <td>México</td>\n",
              "    </tr>\n",
              "    <tr>\n",
              "      <th>15654</th>\n",
              "      <td>SHARE\\nLuego de retirarse del país en 1994 por...</td>\n",
              "      <td>La DEA Vuelve a Pisar Uruguay</td>\n",
              "      <td>Uruguay</td>\n",
              "      <td>Uruguay</td>\n",
              "    </tr>\n",
              "  </tbody>\n",
              "</table>\n",
              "<p>15655 rows × 4 columns</p>\n",
              "</div>"
            ],
            "text/plain": [
              "                                                 content  ...                                               tags\n",
              "0      Protests broke out in Bolivia last year in the...  ...  Bolivia,Cocaine,Elites and Organized Crime,Inf...\n",
              "1      Increased security of containers entering the ...  ...  Brazil,Cocaine,European Organized Crime,Securi...\n",
              "2      The sight of children bearing arms in Guerrero...  ...                                   Homicides,Mexico\n",
              "3      Helena is one of the many former FARC members ...  ...  Colombia,FARC,FARC peace,Gender and Organized ...\n",
              "4      Luis Del Río Jiménez, alias “el Tío,” or “Seño...  ...                Colombia,Elites and Organized Crime\n",
              "...                                                  ...  ...                                                ...\n",
              "15650  SHARE\\nLa captura de Daniel “El Loco” Barrera ...  ...                          El Loco Barrera,Venezuela\n",
              "15651  SHARE\\nEl informe\\nelaborado por el inspector ...  ...                Frontera EU/México,Tráfico de armas\n",
              "15652  SHARE\\nFalsos periodistas de la cadena Televis...  ...              Costa Rica,Lavado de dinero,Nicaragua\n",
              "15653  SHARE\\nEn lo corrido del año, la Secretaría de...  ...                                             México\n",
              "15654  SHARE\\nLuego de retirarse del país en 1994 por...  ...                                            Uruguay\n",
              "\n",
              "[15655 rows x 4 columns]"
            ]
          },
          "metadata": {
            "tags": []
          },
          "execution_count": 12
        }
      ]
    },
    {
      "cell_type": "code",
      "metadata": {
        "id": "8jAA1yKMrVAB",
        "colab_type": "code",
        "colab": {
          "base_uri": "https://localhost:8080/",
          "height": 52
        },
        "outputId": "dd735dba-9fd9-4e98-c13a-10734cf321c7"
      },
      "source": [
        "print(dta['new_tags'][3])\n",
        "print(dta['tags'][3])\n",
        "# FARC is causing problems, it's matching on the whole word so Farc peace is still being pulled. Should we only keep unique?"
      ],
      "execution_count": null,
      "outputs": [
        {
          "output_type": "stream",
          "text": [
            "Colombia,FARC,FARC\n",
            "Colombia,FARC,FARC peace,Gender and Organized Crime\n"
          ],
          "name": "stdout"
        }
      ]
    },
    {
      "cell_type": "code",
      "metadata": {
        "id": "9AqUYV_rYrq8",
        "colab_type": "code",
        "colab": {}
      },
      "source": [
        "#og = \"Bolivia\"\n",
        "#newnew = \"TEST\"\n",
        "#og = data['Original'][8]\n",
        "#newnew = data['Revised'][8]\n",
        "\n",
        "#df['new_cats'] = df['tags'].str.replace(og, newnew)\n",
        "#print(og, newnew)\n",
        "#df\n",
        "# This is where I was testing out options."
      ],
      "execution_count": null,
      "outputs": []
    },
    {
      "cell_type": "markdown",
      "metadata": {
        "id": "sXxevrLUum_N",
        "colab_type": "text"
      },
      "source": [
        "Need to format the tags column into a usable format. I have changed this code to use the NEW_TAGS"
      ]
    },
    {
      "cell_type": "code",
      "metadata": {
        "id": "EsrBTCBkeJ1F",
        "colab_type": "code",
        "colab": {}
      },
      "source": [
        "df = dta\n"
      ],
      "execution_count": null,
      "outputs": []
    },
    {
      "cell_type": "code",
      "metadata": {
        "id": "-4wDNhjYeYdd",
        "colab_type": "code",
        "colab": {
          "base_uri": "https://localhost:8080/",
          "height": 35
        },
        "outputId": "a2dccf45-168c-4734-e43a-b3417181b54e"
      },
      "source": [
        "type(df['new_tags'][1000])\n",
        "df['new_tags'][1000]"
      ],
      "execution_count": null,
      "outputs": [
        {
          "output_type": "execute_result",
          "data": {
            "application/vnd.google.colaboratory.intrinsic": {
              "type": "string"
            },
            "text/plain": [
              "'Empty'"
            ]
          },
          "metadata": {
            "tags": []
          },
          "execution_count": 15
        }
      ]
    },
    {
      "cell_type": "code",
      "metadata": {
        "id": "SzYcdkRnthC-",
        "colab_type": "code",
        "colab": {}
      },
      "source": [
        "df['cats'] = df.new_tags.str.split(\",\", expand=False)"
      ],
      "execution_count": null,
      "outputs": []
    },
    {
      "cell_type": "markdown",
      "metadata": {
        "id": "PV17vQmx9oHo",
        "colab_type": "text"
      },
      "source": [
        ""
      ]
    },
    {
      "cell_type": "markdown",
      "metadata": {
        "id": "P_f_ui4IuubO",
        "colab_type": "text"
      },
      "source": [
        "Now we have our categories column, let's see what the second row holds. "
      ]
    },
    {
      "cell_type": "code",
      "metadata": {
        "id": "Fg7wdZoP5WIR",
        "colab_type": "code",
        "colab": {
          "base_uri": "https://localhost:8080/",
          "height": 53
        },
        "outputId": "32876b0f-0cea-4bdc-e1f2-737bf5a2f19f"
      },
      "source": [
        "print (type(df['cats'][1000]))\n",
        "df['new_tags'][1000]"
      ],
      "execution_count": null,
      "outputs": [
        {
          "output_type": "stream",
          "text": [
            "<class 'list'>\n"
          ],
          "name": "stdout"
        },
        {
          "output_type": "execute_result",
          "data": {
            "application/vnd.google.colaboratory.intrinsic": {
              "type": "string"
            },
            "text/plain": [
              "'Empty'"
            ]
          },
          "metadata": {
            "tags": []
          },
          "execution_count": 17
        }
      ]
    },
    {
      "cell_type": "code",
      "metadata": {
        "id": "0zMa8_4qVSb9",
        "colab_type": "code",
        "colab": {
          "base_uri": "https://localhost:8080/",
          "height": 35
        },
        "outputId": "6ad90222-5357-43a6-c47f-3b9c02e6fea5"
      },
      "source": [
        "# select a column as series and then convert it into a column\n",
        "list_of_names = df['cats'].to_list()\n",
        "type(list_of_names)"
      ],
      "execution_count": null,
      "outputs": [
        {
          "output_type": "execute_result",
          "data": {
            "text/plain": [
              "list"
            ]
          },
          "metadata": {
            "tags": []
          },
          "execution_count": 18
        }
      ]
    },
    {
      "cell_type": "code",
      "metadata": {
        "id": "qVIM0pWR5KZA",
        "colab_type": "code",
        "colab": {
          "base_uri": "https://localhost:8080/",
          "height": 35
        },
        "outputId": "fe80596a-f01a-479e-c527-184737f5d7d5"
      },
      "source": [
        "all_tags = sum(list_of_names, [])\n",
        "len(set(all_tags))"
      ],
      "execution_count": null,
      "outputs": [
        {
          "output_type": "execute_result",
          "data": {
            "text/plain": [
              "105"
            ]
          },
          "metadata": {
            "tags": []
          },
          "execution_count": 19
        }
      ]
    },
    {
      "cell_type": "markdown",
      "metadata": {
        "id": "9JkiK5Kyu_Rv",
        "colab_type": "text"
      },
      "source": [
        "\n",
        "\n",
        "NOTE: We reduced this from 253 tags to 105, that is great! 105 is still a lot and I think we could reduce this by aggregating the sparse actors to something more general. "
      ]
    },
    {
      "cell_type": "code",
      "metadata": {
        "id": "VBXtl_CJfxW3",
        "colab_type": "code",
        "colab": {}
      },
      "source": [
        "all_tags = nltk.FreqDist(all_tags) \n",
        "\n",
        "# create dataframe\n",
        "all_tags_df = pd.DataFrame({'tags': list(all_tags.keys()), \n",
        "                              'Count': list(all_tags.values())})"
      ],
      "execution_count": null,
      "outputs": []
    },
    {
      "cell_type": "code",
      "metadata": {
        "id": "9zZa_5_eQzCR",
        "colab_type": "code",
        "colab": {}
      },
      "source": [
        "#all_tags_df.to_csv(\"My Drive/Data/Insight Crime/models/data/new_revised_categories.csv\")"
      ],
      "execution_count": null,
      "outputs": []
    },
    {
      "cell_type": "code",
      "metadata": {
        "id": "HJN5rTv-_AM2",
        "colab_type": "code",
        "colab": {
          "base_uri": "https://localhost:8080/",
          "height": 411
        },
        "outputId": "16780198-1a3f-46b1-f393-8e189f327102"
      },
      "source": [
        "all_tags_df"
      ],
      "execution_count": null,
      "outputs": [
        {
          "output_type": "execute_result",
          "data": {
            "text/html": [
              "<div>\n",
              "<style scoped>\n",
              "    .dataframe tbody tr th:only-of-type {\n",
              "        vertical-align: middle;\n",
              "    }\n",
              "\n",
              "    .dataframe tbody tr th {\n",
              "        vertical-align: top;\n",
              "    }\n",
              "\n",
              "    .dataframe thead th {\n",
              "        text-align: right;\n",
              "    }\n",
              "</style>\n",
              "<table border=\"1\" class=\"dataframe\">\n",
              "  <thead>\n",
              "    <tr style=\"text-align: right;\">\n",
              "      <th></th>\n",
              "      <th>tags</th>\n",
              "      <th>Count</th>\n",
              "    </tr>\n",
              "  </thead>\n",
              "  <tbody>\n",
              "    <tr>\n",
              "      <th>0</th>\n",
              "      <td>Corruption</td>\n",
              "      <td>1577</td>\n",
              "    </tr>\n",
              "    <tr>\n",
              "      <th>1</th>\n",
              "      <td>Bolivia</td>\n",
              "      <td>541</td>\n",
              "    </tr>\n",
              "    <tr>\n",
              "      <th>2</th>\n",
              "      <td>Drug trafficking</td>\n",
              "      <td>945</td>\n",
              "    </tr>\n",
              "    <tr>\n",
              "      <th>3</th>\n",
              "      <td>Brazil</td>\n",
              "      <td>1184</td>\n",
              "    </tr>\n",
              "    <tr>\n",
              "      <th>4</th>\n",
              "      <td>Law Enforcement</td>\n",
              "      <td>3849</td>\n",
              "    </tr>\n",
              "    <tr>\n",
              "      <th>...</th>\n",
              "      <td>...</td>\n",
              "      <td>...</td>\n",
              "    </tr>\n",
              "    <tr>\n",
              "      <th>100</th>\n",
              "      <td>Walter Overdick</td>\n",
              "      <td>13</td>\n",
              "    </tr>\n",
              "    <tr>\n",
              "      <th>101</th>\n",
              "      <td>EPR</td>\n",
              "      <td>7</td>\n",
              "    </tr>\n",
              "    <tr>\n",
              "      <th>102</th>\n",
              "      <td>Paisas</td>\n",
              "      <td>12</td>\n",
              "    </tr>\n",
              "    <tr>\n",
              "      <th>103</th>\n",
              "      <td>Leones</td>\n",
              "      <td>3</td>\n",
              "    </tr>\n",
              "    <tr>\n",
              "      <th>104</th>\n",
              "      <td>Autodefensas</td>\n",
              "      <td>122</td>\n",
              "    </tr>\n",
              "  </tbody>\n",
              "</table>\n",
              "<p>105 rows × 2 columns</p>\n",
              "</div>"
            ],
            "text/plain": [
              "                 tags  Count\n",
              "0          Corruption   1577\n",
              "1             Bolivia    541\n",
              "2    Drug trafficking    945\n",
              "3              Brazil   1184\n",
              "4     Law Enforcement   3849\n",
              "..                ...    ...\n",
              "100   Walter Overdick     13\n",
              "101               EPR      7\n",
              "102            Paisas     12\n",
              "103            Leones      3\n",
              "104      Autodefensas    122\n",
              "\n",
              "[105 rows x 2 columns]"
            ]
          },
          "metadata": {
            "tags": []
          },
          "execution_count": 21
        }
      ]
    },
    {
      "cell_type": "markdown",
      "metadata": {
        "id": "17TGyhPvvIXq",
        "colab_type": "text"
      },
      "source": [
        "Below is the bar graph with frequencies, Mexico is probably the biggest category followed by Colombia. \n",
        "\n",
        "\n"
      ]
    },
    {
      "cell_type": "code",
      "metadata": {
        "id": "heJyPjy24r7e",
        "colab_type": "code",
        "colab": {
          "base_uri": "https://localhost:8080/",
          "height": 877
        },
        "outputId": "64d1125c-01f9-4edd-8ab7-d5fb30d3ff2a"
      },
      "source": [
        "g = all_tags_df.nlargest(columns=\"Count\", n = 100) \n",
        "plt.figure(figsize=(12,15)) \n",
        "ax = sns.barplot(data=g, x= \"Count\", y = \"tags\") \n",
        "ax.set(ylabel = 'tags') \n",
        "plt.show()"
      ],
      "execution_count": null,
      "outputs": [
        {
          "output_type": "display_data",
          "data": {
            "image/png": "[encoded data removed]",
            "text/plain": [
              "<Figure size 864x1080 with 1 Axes>"
            ]
          },
          "metadata": {
            "tags": [],
            "needs_background": "light"
          }
        }
      ]
    },
    {
      "cell_type": "markdown",
      "metadata": {
        "id": "7xGq9n6bvzRe",
        "colab_type": "text"
      },
      "source": [
        "\n",
        "Below is the dataframe we are working with, the content column is the text we will be working with."
      ]
    },
    {
      "cell_type": "code",
      "metadata": {
        "id": "mD_ymg5n33Rq",
        "colab_type": "code",
        "colab": {
          "base_uri": "https://localhost:8080/",
          "height": 285
        },
        "outputId": "9e78d741-1cdc-46e3-e2ff-cdefa130a667"
      },
      "source": [
        "df.head()"
      ],
      "execution_count": null,
      "outputs": [
        {
          "output_type": "execute_result",
          "data": {
            "text/html": [
              "<div>\n",
              "<style scoped>\n",
              "    .dataframe tbody tr th:only-of-type {\n",
              "        vertical-align: middle;\n",
              "    }\n",
              "\n",
              "    .dataframe tbody tr th {\n",
              "        vertical-align: top;\n",
              "    }\n",
              "\n",
              "    .dataframe thead th {\n",
              "        text-align: right;\n",
              "    }\n",
              "</style>\n",
              "<table border=\"1\" class=\"dataframe\">\n",
              "  <thead>\n",
              "    <tr style=\"text-align: right;\">\n",
              "      <th></th>\n",
              "      <th>content</th>\n",
              "      <th>title</th>\n",
              "      <th>new_tags</th>\n",
              "      <th>tags</th>\n",
              "      <th>cats</th>\n",
              "    </tr>\n",
              "  </thead>\n",
              "  <tbody>\n",
              "    <tr>\n",
              "      <th>0</th>\n",
              "      <td>Protests broke out in Bolivia last year in the...</td>\n",
              "      <td>Bolivia Investigations Target Members of Evo M...</td>\n",
              "      <td>Corruption,Bolivia,Drug trafficking</td>\n",
              "      <td>Bolivia,Cocaine,Elites and Organized Crime,Inf...</td>\n",
              "      <td>[Corruption, Bolivia, Drug trafficking]</td>\n",
              "    </tr>\n",
              "    <tr>\n",
              "      <th>1</th>\n",
              "      <td>Increased security of containers entering the ...</td>\n",
              "      <td>Can Port of Antwerp Truly Stem Cocaine Enterin...</td>\n",
              "      <td>Brazil,Law Enforcement,Drug trafficking,Suriname</td>\n",
              "      <td>Brazil,Cocaine,European Organized Crime,Securi...</td>\n",
              "      <td>[Brazil, Law Enforcement, Drug trafficking, Su...</td>\n",
              "    </tr>\n",
              "    <tr>\n",
              "      <th>2</th>\n",
              "      <td>The sight of children bearing arms in Guerrero...</td>\n",
              "      <td>Los Ardillos Continue Terrorizing Indigenous C...</td>\n",
              "      <td>Mexico,Homicides</td>\n",
              "      <td>Homicides,Mexico</td>\n",
              "      <td>[Mexico, Homicides]</td>\n",
              "    </tr>\n",
              "    <tr>\n",
              "      <th>3</th>\n",
              "      <td>Helena is one of the many former FARC members ...</td>\n",
              "      <td>Former FARC Guerrillas Recognized as Victims o...</td>\n",
              "      <td>Colombia,FARC,FARC</td>\n",
              "      <td>Colombia,FARC,FARC peace,Gender and Organized ...</td>\n",
              "      <td>[Colombia, FARC, FARC]</td>\n",
              "    </tr>\n",
              "    <tr>\n",
              "      <th>4</th>\n",
              "      <td>Luis Del Río Jiménez, alias “el Tío,” or “Seño...</td>\n",
              "      <td>Was ‘Señor T’ One of Colombia’s Invisible Drug...</td>\n",
              "      <td>Colombia,Corruption</td>\n",
              "      <td>Colombia,Elites and Organized Crime</td>\n",
              "      <td>[Colombia, Corruption]</td>\n",
              "    </tr>\n",
              "  </tbody>\n",
              "</table>\n",
              "</div>"
            ],
            "text/plain": [
              "                                             content  ...                                               cats\n",
              "0  Protests broke out in Bolivia last year in the...  ...            [Corruption, Bolivia, Drug trafficking]\n",
              "1  Increased security of containers entering the ...  ...  [Brazil, Law Enforcement, Drug trafficking, Su...\n",
              "2  The sight of children bearing arms in Guerrero...  ...                                [Mexico, Homicides]\n",
              "3  Helena is one of the many former FARC members ...  ...                             [Colombia, FARC, FARC]\n",
              "4  Luis Del Río Jiménez, alias “el Tío,” or “Seño...  ...                             [Colombia, Corruption]\n",
              "\n",
              "[5 rows x 5 columns]"
            ]
          },
          "metadata": {
            "tags": []
          },
          "execution_count": 56
        }
      ]
    },
    {
      "cell_type": "markdown",
      "metadata": {
        "id": "jLt-R3CQxIJW",
        "colab_type": "text"
      },
      "source": [
        "Here I define the process through which each article will be cleaned. I drop punctuations, white space, paragraphs, and convert everything to lower case.\n",
        "\n",
        "I have not removed accents and I am not stemming or lemmatizing each word. We can discuss this approach to see if it will offer an advantage. \n",
        "\n"
      ]
    },
    {
      "cell_type": "code",
      "metadata": {
        "id": "fXvYDP-rsyah",
        "colab_type": "code",
        "colab": {}
      },
      "source": [
        "def clean_text(text):\n",
        "    text = re.sub(r'[?|!|\\'|\"|#]',r'',text)\n",
        "    text = re.sub(r'[.|,|)|(|\\|/]',r' ',text)\n",
        "    text = text.strip()\n",
        "    text = text.replace(\"\\n\",\" \")\n",
        "    # remove backslash-apostrophe \n",
        "    text = re.sub(\"\\'\", \"\", text) \n",
        "    # remove everything except alphabets \n",
        "    #text = re.sub(\"[^a-zA-Z]\",\" \",text) \n",
        "    # remove whitespaces \n",
        "    text = ' '.join(text.split()) \n",
        "    # convert text to lowercase \n",
        "    text = text.lower() \n",
        "    \n",
        "    return text"
      ],
      "execution_count": null,
      "outputs": []
    },
    {
      "cell_type": "markdown",
      "metadata": {
        "id": "2xKDQ5oCxash",
        "colab_type": "text"
      },
      "source": [
        "Let's produce a new column with clean_text"
      ]
    },
    {
      "cell_type": "code",
      "metadata": {
        "id": "Xuz-5_Vms0R4",
        "colab_type": "code",
        "colab": {}
      },
      "source": [
        "df['clean_text'] = df['content'].apply(lambda x: clean_text(x))\n"
      ],
      "execution_count": null,
      "outputs": []
    },
    {
      "cell_type": "markdown",
      "metadata": {
        "id": "n1scqCE5xogi",
        "colab_type": "text"
      },
      "source": [
        "Accents and numeric characters are still in the text. Let me know what you think of this. "
      ]
    },
    {
      "cell_type": "code",
      "metadata": {
        "id": "XA-l1tCvs7Hw",
        "colab_type": "code",
        "colab": {
          "base_uri": "https://localhost:8080/",
          "height": 581
        },
        "outputId": "55945eea-0bf5-4079-c353-b6884851dfeb"
      },
      "source": [
        "df"
      ],
      "execution_count": null,
      "outputs": [
        {
          "output_type": "execute_result",
          "data": {
            "text/html": [
              "<div>\n",
              "<style scoped>\n",
              "    .dataframe tbody tr th:only-of-type {\n",
              "        vertical-align: middle;\n",
              "    }\n",
              "\n",
              "    .dataframe tbody tr th {\n",
              "        vertical-align: top;\n",
              "    }\n",
              "\n",
              "    .dataframe thead th {\n",
              "        text-align: right;\n",
              "    }\n",
              "</style>\n",
              "<table border=\"1\" class=\"dataframe\">\n",
              "  <thead>\n",
              "    <tr style=\"text-align: right;\">\n",
              "      <th></th>\n",
              "      <th>content</th>\n",
              "      <th>title</th>\n",
              "      <th>new_tags</th>\n",
              "      <th>tags</th>\n",
              "      <th>cats</th>\n",
              "      <th>clean_text</th>\n",
              "    </tr>\n",
              "  </thead>\n",
              "  <tbody>\n",
              "    <tr>\n",
              "      <th>0</th>\n",
              "      <td>Protests broke out in Bolivia last year in the...</td>\n",
              "      <td>Bolivia Investigations Target Members of Evo M...</td>\n",
              "      <td>Corruption,Bolivia,Drug trafficking</td>\n",
              "      <td>Bolivia,Cocaine,Elites and Organized Crime,Inf...</td>\n",
              "      <td>[Corruption, Bolivia, Drug trafficking]</td>\n",
              "      <td>protests broke out in bolivia last year in the...</td>\n",
              "    </tr>\n",
              "    <tr>\n",
              "      <th>1</th>\n",
              "      <td>Increased security of containers entering the ...</td>\n",
              "      <td>Can Port of Antwerp Truly Stem Cocaine Enterin...</td>\n",
              "      <td>Brazil,Law Enforcement,Drug trafficking,Suriname</td>\n",
              "      <td>Brazil,Cocaine,European Organized Crime,Securi...</td>\n",
              "      <td>[Brazil, Law Enforcement, Drug trafficking, Su...</td>\n",
              "      <td>increased security of containers entering the ...</td>\n",
              "    </tr>\n",
              "    <tr>\n",
              "      <th>2</th>\n",
              "      <td>The sight of children bearing arms in Guerrero...</td>\n",
              "      <td>Los Ardillos Continue Terrorizing Indigenous C...</td>\n",
              "      <td>Mexico,Homicides</td>\n",
              "      <td>Homicides,Mexico</td>\n",
              "      <td>[Mexico, Homicides]</td>\n",
              "      <td>the sight of children bearing arms in guerrero...</td>\n",
              "    </tr>\n",
              "    <tr>\n",
              "      <th>3</th>\n",
              "      <td>Helena is one of the many former FARC members ...</td>\n",
              "      <td>Former FARC Guerrillas Recognized as Victims o...</td>\n",
              "      <td>Colombia,FARC,FARC</td>\n",
              "      <td>Colombia,FARC,FARC peace,Gender and Organized ...</td>\n",
              "      <td>[Colombia, FARC, FARC]</td>\n",
              "      <td>helena is one of the many former farc members ...</td>\n",
              "    </tr>\n",
              "    <tr>\n",
              "      <th>4</th>\n",
              "      <td>Luis Del Río Jiménez, alias “el Tío,” or “Seño...</td>\n",
              "      <td>Was ‘Señor T’ One of Colombia’s Invisible Drug...</td>\n",
              "      <td>Colombia,Corruption</td>\n",
              "      <td>Colombia,Elites and Organized Crime</td>\n",
              "      <td>[Colombia, Corruption]</td>\n",
              "      <td>luis del río jiménez alias “el tío ” or “señor...</td>\n",
              "    </tr>\n",
              "    <tr>\n",
              "      <th>...</th>\n",
              "      <td>...</td>\n",
              "      <td>...</td>\n",
              "      <td>...</td>\n",
              "      <td>...</td>\n",
              "      <td>...</td>\n",
              "      <td>...</td>\n",
              "    </tr>\n",
              "    <tr>\n",
              "      <th>15650</th>\n",
              "      <td>SHARE\\nLa captura de Daniel “El Loco” Barrera ...</td>\n",
              "      <td>El arresto del ‘Loco Barrera’ muestra a Venezu...</td>\n",
              "      <td>Venezuela,Rastrojos</td>\n",
              "      <td>El Loco Barrera,Venezuela</td>\n",
              "      <td>[Venezuela, Rastrojos]</td>\n",
              "      <td>share la captura de daniel “el loco” barrera e...</td>\n",
              "    </tr>\n",
              "    <tr>\n",
              "      <th>15651</th>\n",
              "      <td>SHARE\\nEl informe\\nelaborado por el inspector ...</td>\n",
              "      <td>Veredicto sobre la Operación ‘Rápido y Furioso’</td>\n",
              "      <td>Mexico,Arms Trafficking</td>\n",
              "      <td>Frontera EU/México,Tráfico de armas</td>\n",
              "      <td>[Mexico, Arms Trafficking]</td>\n",
              "      <td>share el informe elaborado por el inspector ge...</td>\n",
              "    </tr>\n",
              "    <tr>\n",
              "      <th>15652</th>\n",
              "      <td>SHARE\\nFalsos periodistas de la cadena Televis...</td>\n",
              "      <td>Falsos Periodistas Acusados por los Delitos de...</td>\n",
              "      <td>Money Laundering,Costa Rica,Nicaragua</td>\n",
              "      <td>Costa Rica,Lavado de dinero,Nicaragua</td>\n",
              "      <td>[Money Laundering, Costa Rica, Nicaragua]</td>\n",
              "      <td>share falsos periodistas de la cadena televisa...</td>\n",
              "    </tr>\n",
              "    <tr>\n",
              "      <th>15653</th>\n",
              "      <td>SHARE\\nEn lo corrido del año, la Secretaría de...</td>\n",
              "      <td>Aproximadamente 8.000 Detenidos por Narcotráfi...</td>\n",
              "      <td>Mexico</td>\n",
              "      <td>México</td>\n",
              "      <td>[Mexico]</td>\n",
              "      <td>share en lo corrido del año la secretaría de l...</td>\n",
              "    </tr>\n",
              "    <tr>\n",
              "      <th>15654</th>\n",
              "      <td>SHARE\\nLuego de retirarse del país en 1994 por...</td>\n",
              "      <td>La DEA Vuelve a Pisar Uruguay</td>\n",
              "      <td>Uruguay</td>\n",
              "      <td>Uruguay</td>\n",
              "      <td>[Uruguay]</td>\n",
              "      <td>share luego de retirarse del país en 1994 porq...</td>\n",
              "    </tr>\n",
              "  </tbody>\n",
              "</table>\n",
              "<p>15655 rows × 6 columns</p>\n",
              "</div>"
            ],
            "text/plain": [
              "                                                 content  ...                                         clean_text\n",
              "0      Protests broke out in Bolivia last year in the...  ...  protests broke out in bolivia last year in the...\n",
              "1      Increased security of containers entering the ...  ...  increased security of containers entering the ...\n",
              "2      The sight of children bearing arms in Guerrero...  ...  the sight of children bearing arms in guerrero...\n",
              "3      Helena is one of the many former FARC members ...  ...  helena is one of the many former farc members ...\n",
              "4      Luis Del Río Jiménez, alias “el Tío,” or “Seño...  ...  luis del río jiménez alias “el tío ” or “señor...\n",
              "...                                                  ...  ...                                                ...\n",
              "15650  SHARE\\nLa captura de Daniel “El Loco” Barrera ...  ...  share la captura de daniel “el loco” barrera e...\n",
              "15651  SHARE\\nEl informe\\nelaborado por el inspector ...  ...  share el informe elaborado por el inspector ge...\n",
              "15652  SHARE\\nFalsos periodistas de la cadena Televis...  ...  share falsos periodistas de la cadena televisa...\n",
              "15653  SHARE\\nEn lo corrido del año, la Secretaría de...  ...  share en lo corrido del año la secretaría de l...\n",
              "15654  SHARE\\nLuego de retirarse del país en 1994 por...  ...  share luego de retirarse del país en 1994 porq...\n",
              "\n",
              "[15655 rows x 6 columns]"
            ]
          },
          "metadata": {
            "tags": []
          },
          "execution_count": 59
        }
      ]
    },
    {
      "cell_type": "markdown",
      "metadata": {
        "id": "KCunS-TTxvgw",
        "colab_type": "text"
      },
      "source": [
        "Below I visualize common words in the text, useful for building a stopwords dictionary. "
      ]
    },
    {
      "cell_type": "code",
      "metadata": {
        "id": "bjub81vBLn40",
        "colab_type": "code",
        "colab": {
          "base_uri": "https://localhost:8080/",
          "height": 877
        },
        "outputId": "5fa92db7-6ce6-4b37-eb2c-8ec54a12d174"
      },
      "source": [
        "def freq_words(x, terms = 30): \n",
        "  all_words = ' '.join([text for text in x]) \n",
        "  all_words = all_words.split() \n",
        "  fdist = nltk.FreqDist(all_words) \n",
        "  words_df = pd.DataFrame({'word':list(fdist.keys()), 'count':list(fdist.values())}) \n",
        "  \n",
        "  # selecting top 20 most frequent words \n",
        "  d = words_df.nlargest(columns=\"count\", n = terms) \n",
        "  \n",
        "  # visualize words and frequencies\n",
        "  plt.figure(figsize=(12,15)) \n",
        "  ax = sns.barplot(data=d, x= \"count\", y = \"word\") \n",
        "  ax.set(ylabel = 'Word') \n",
        "  plt.show()\n",
        "  \n",
        "# print 100 most frequent words \n",
        "freq_words(df['clean_text'], 100)"
      ],
      "execution_count": null,
      "outputs": [
        {
          "output_type": "display_data",
          "data": {
            "image/png": "[encoded data removed]",
            "text/plain": [
              "<Figure size 864x1080 with 1 Axes>"
            ]
          },
          "metadata": {
            "tags": [],
            "needs_background": "light"
          }
        }
      ]
    },
    {
      "cell_type": "markdown",
      "metadata": {
        "id": "2LrtpT9EtGAY",
        "colab_type": "text"
      },
      "source": [
        "Now let's drop stop words in english and spanish. \n",
        "\n",
        "---\n",
        "\n"
      ]
    },
    {
      "cell_type": "code",
      "metadata": {
        "id": "yU86lLnm6xfb",
        "colab_type": "code",
        "colab": {
          "base_uri": "https://localhost:8080/",
          "height": 70
        },
        "outputId": "3403d180-e7f6-4d9a-c3db-30565b9f4504"
      },
      "source": [
        "nltk.download('stopwords')\n"
      ],
      "execution_count": null,
      "outputs": [
        {
          "output_type": "stream",
          "text": [
            "[nltk_data] Downloading package stopwords to /root/nltk_data...\n",
            "[nltk_data]   Unzipping corpora/stopwords.zip.\n"
          ],
          "name": "stdout"
        },
        {
          "output_type": "execute_result",
          "data": {
            "text/plain": [
              "True"
            ]
          },
          "metadata": {
            "tags": []
          },
          "execution_count": 25
        }
      ]
    },
    {
      "cell_type": "code",
      "metadata": {
        "id": "xoMnm7octyp0",
        "colab_type": "code",
        "colab": {}
      },
      "source": [
        "from nltk.corpus import stopwords\n",
        "stop_words = set(stopwords.words('english'))\n",
        "stop_words_es = set(stopwords.words(\"spanish\"))\n",
        "#stop_words_es"
      ],
      "execution_count": null,
      "outputs": []
    },
    {
      "cell_type": "code",
      "metadata": {
        "id": "3BGA3InitglW",
        "colab_type": "code",
        "colab": {}
      },
      "source": [
        "new_words = [\"share\", \"email\", \"correo\", \"insight\", \"creative\", \"commons\", \"link\",\n",
        "             \"website\", \"x\", \"-\", \"electronico\"]"
      ],
      "execution_count": null,
      "outputs": []
    },
    {
      "cell_type": "markdown",
      "metadata": {
        "id": "UwocbMT4x4xY",
        "colab_type": "text"
      },
      "source": [
        "I have not added custom stop words, but here is the spot they would go if we decide to exclude particular words. "
      ]
    },
    {
      "cell_type": "code",
      "metadata": {
        "id": "XfH0wDJVuBtn",
        "colab_type": "code",
        "colab": {}
      },
      "source": [
        "stop_words = stop_words.union(stop_words_es)\n",
        "stop_words = stop_words.union(new_words)\n",
        "#stop_words"
      ],
      "execution_count": null,
      "outputs": []
    },
    {
      "cell_type": "code",
      "metadata": {
        "id": "xzyvtnCp9ERX",
        "colab_type": "code",
        "colab": {}
      },
      "source": [
        "# function to remove stopwords\n",
        "def remove_stopwords(text):\n",
        "    no_stopword_text = [w for w in text.split() if not w in stop_words]\n",
        "    return ' '.join(no_stopword_text)\n",
        "\n",
        "df['clean_text'] = df['clean_text'].apply(lambda x: remove_stopwords(x))"
      ],
      "execution_count": null,
      "outputs": []
    },
    {
      "cell_type": "markdown",
      "metadata": {
        "id": "ceUroGGCx-Ra",
        "colab_type": "text"
      },
      "source": [
        "New frequency graph with the most common words without stop words. "
      ]
    },
    {
      "cell_type": "code",
      "metadata": {
        "id": "hszChPaW9Wdr",
        "colab_type": "code",
        "colab": {
          "base_uri": "https://localhost:8080/",
          "height": 877
        },
        "outputId": "19e8c0b6-1eae-4a68-bc3f-d66b05de2897"
      },
      "source": [
        "freq_words(df['clean_text'], 100)\n"
      ],
      "execution_count": null,
      "outputs": [
        {
          "output_type": "display_data",
          "data": {
            "image/png": "[encoded data removed]",
            "text/plain": [
              "<Figure size 864x1080 with 1 Axes>"
            ]
          },
          "metadata": {
            "tags": [],
            "needs_background": "light"
          }
        }
      ]
    },
    {
      "cell_type": "markdown",
      "metadata": {
        "id": "1DBDuhBCxt5O",
        "colab_type": "text"
      },
      "source": [
        "I'm going to save the df so that I can use it with Bert in a different script."
      ]
    },
    {
      "cell_type": "markdown",
      "metadata": {
        "id": "pOPGWti6m206",
        "colab_type": "text"
      },
      "source": [
        ""
      ]
    },
    {
      "cell_type": "code",
      "metadata": {
        "id": "L7x1SQW-xs0S",
        "colab_type": "code",
        "colab": {}
      },
      "source": [
        "df.to_csv(\"My Drive/Data/Insight Crime/models/data/Insight_Clean_07142020.csv\")"
      ],
      "execution_count": null,
      "outputs": []
    },
    {
      "cell_type": "markdown",
      "metadata": {
        "id": "8roPbMQOyC7B",
        "colab_type": "text"
      },
      "source": [
        "## Machile Learning\n",
        "\n",
        "Now we get to the fun stuff. I'm using multi label binarizer to convert our cats into binary indicators. "
      ]
    },
    {
      "cell_type": "code",
      "metadata": {
        "id": "fiVRzOtP9pNp",
        "colab_type": "code",
        "colab": {}
      },
      "source": [
        "from sklearn.preprocessing import MultiLabelBinarizer\n",
        "\n",
        "multilabel_binarizer = MultiLabelBinarizer()\n",
        "multilabel_binarizer.fit(df['cats'])\n",
        "\n",
        "# transform target variable\n",
        "y = multilabel_binarizer.transform(df['cats'])"
      ],
      "execution_count": null,
      "outputs": []
    },
    {
      "cell_type": "code",
      "metadata": {
        "id": "Aq3tJIzy46e7",
        "colab_type": "code",
        "colab": {
          "base_uri": "https://localhost:8080/",
          "height": 141
        },
        "outputId": "0f4791d6-a353-404b-bfe9-f5fb21b58c46"
      },
      "source": [
        "y"
      ],
      "execution_count": null,
      "outputs": [
        {
          "output_type": "execute_result",
          "data": {
            "text/plain": [
              "array([[0, 0, 0, ..., 0, 0, 0],\n",
              "       [0, 0, 0, ..., 0, 0, 0],\n",
              "       [0, 0, 0, ..., 0, 0, 0],\n",
              "       ...,\n",
              "       [0, 0, 0, ..., 0, 0, 0],\n",
              "       [0, 0, 0, ..., 0, 0, 0],\n",
              "       [0, 0, 0, ..., 0, 0, 0]])"
            ]
          },
          "metadata": {
            "tags": []
          },
          "execution_count": 31
        }
      ]
    },
    {
      "cell_type": "code",
      "metadata": {
        "id": "J1dKYe-mJSoP",
        "colab_type": "code",
        "colab": {
          "base_uri": "https://localhost:8080/",
          "height": 408
        },
        "outputId": "e6411e7b-45e3-46fa-da51-2fd03b1f4dc3"
      },
      "source": [
        "print((multilabel_binarizer.classes_))"
      ],
      "execution_count": null,
      "outputs": [
        {
          "output_type": "stream",
          "text": [
            "['AUC' 'Amigos dos Amigos' 'Argentina' 'Arms Trafficking' 'Autodefensas'\n",
            " 'Bagdad' 'Barrio 18' 'Barrio Azteca' 'Belize' 'Bolivia' 'Brazil' 'CIACS'\n",
            " 'Caballeros Templarios' 'Cachiros' 'Calor Calor' 'Canada'\n",
            " 'Cartel de Jalisco' 'Cartel de Juárez' 'Cartel de Sinaloa'\n",
            " 'Cartel de Texis' 'Cartel de Tijuana' 'Cartel de los Soles'\n",
            " 'Cartel del Golfo' 'Cartel del Norte del Valle' 'Chepe Diablo'\n",
            " 'Chepe Luna' 'Chile' 'Colectivos' 'Colombia' 'Comando Vermelho'\n",
            " 'Contraband' 'Corruption' 'Costa Rica' 'Counterfeit' 'Criminal Migration'\n",
            " 'Cuba' 'Cyber Crime' 'Dominican Republic' 'Don Berna' 'Drug trafficking'\n",
            " 'ELN' 'EPL' 'EPP' 'EPR' 'ERPAC' 'Eco-Trafficking' 'Ecuador' 'El Salvador'\n",
            " 'Empty' 'Ex-FARC Mafia' 'Extortion' 'FARC' 'FBL' 'Francisco Zeledon'\n",
            " 'Guatemala' 'Guerreros Unidos' 'Guyana' 'Haiti' 'Homicides' 'Honduras'\n",
            " 'Human Trafficking' 'Illegal Mining' 'Jamaica' 'Juan Chamale'\n",
            " 'Kidnapping' 'La Familia Michoacana' 'Law Enforcement' 'Leones'\n",
            " 'Libertadores del Vichada' 'Lorenzanas' 'Los Caparrapos' 'Los Machos'\n",
            " 'Los Perrones' 'MS13' 'Mendozas' 'Mexico' 'Milicias Brasil'\n",
            " 'Money Laundering' 'Nicaragua' 'Oficina de Envigado' 'Oil Theft'\n",
            " 'Organización Beltrán Leyva' 'PCC' 'Paisas' 'Panama' 'Paraguay' 'Peru'\n",
            " 'Puerto Rico' 'Puntilleros' 'Rastrojos' 'Reñazcos' 'Sendero Luminoso'\n",
            " 'Suriname' 'Tarzanes' 'Tercer Comando Puro' 'USA' 'Urabeños' 'Uruguay'\n",
            " 'Valles' 'Venezuela' 'Victor Carranza' 'Vigilantes' 'Walter Overdick'\n",
            " 'Zetas' 'Águilas Negras']\n"
          ],
          "name": "stdout"
        }
      ]
    },
    {
      "cell_type": "markdown",
      "metadata": {
        "id": "I1uLzHwKyQra",
        "colab_type": "text"
      },
      "source": [
        "Here's what article 2 from above looks like after the encoding. Notice the 5 1's across the array. "
      ]
    },
    {
      "cell_type": "code",
      "metadata": {
        "id": "DnEle25m0Ndy",
        "colab_type": "code",
        "colab": {
          "base_uri": "https://localhost:8080/",
          "height": 106
        },
        "outputId": "7df86f0d-3b85-456e-ae08-f5cd3160adc3"
      },
      "source": [
        "y[1]"
      ],
      "execution_count": null,
      "outputs": [
        {
          "output_type": "execute_result",
          "data": {
            "text/plain": [
              "array([0, 0, 0, 0, 0, 0, 0, 0, 0, 0, 1, 0, 0, 0, 0, 0, 0, 0, 0, 0, 0, 0,\n",
              "       0, 0, 0, 0, 0, 0, 0, 0, 0, 0, 0, 0, 0, 0, 0, 0, 0, 1, 0, 0, 0, 0,\n",
              "       0, 0, 0, 0, 0, 0, 0, 0, 0, 0, 0, 0, 0, 0, 0, 0, 0, 0, 0, 0, 0, 0,\n",
              "       1, 0, 0, 0, 0, 0, 0, 0, 0, 0, 0, 0, 0, 0, 0, 0, 0, 0, 0, 0, 0, 0,\n",
              "       0, 0, 0, 0, 1, 0, 0, 0, 0, 0, 0, 0, 0, 0, 0, 0, 0])"
            ]
          },
          "metadata": {
            "tags": []
          },
          "execution_count": 78
        }
      ]
    },
    {
      "cell_type": "markdown",
      "metadata": {
        "id": "HMdi7n74yYcu",
        "colab_type": "text"
      },
      "source": [
        "I use TF-IDF to vectorize our content. Max features set to 10,000. This will help weigh properly common and sparse words. "
      ]
    },
    {
      "cell_type": "code",
      "metadata": {
        "id": "WaExt8iniXO-",
        "colab_type": "code",
        "colab": {}
      },
      "source": [
        "tfidf_vectorizer = TfidfVectorizer(max_df=0.8, max_features=10000)\n"
      ],
      "execution_count": null,
      "outputs": []
    },
    {
      "cell_type": "markdown",
      "metadata": {
        "id": "d2VkdXCqyk24",
        "colab_type": "text"
      },
      "source": [
        "Here is our second problem. As I mentioned earlier there are many categories with less than 10 mentions in the entire corpus. Thus there are examples where the model will simply not learn about a category because there are no examples in the training data if they get assigned to the test category.\n",
        "\n",
        "To reduce this possibility I only leave 10% of articles for testing. The best approach would be to reduce the number of cats to a more reasonable number given the size of training data. "
      ]
    },
    {
      "cell_type": "code",
      "metadata": {
        "id": "A678a0qwiXpZ",
        "colab_type": "code",
        "colab": {}
      },
      "source": [
        "xtrain, xval, ytrain, yval = train_test_split(df['clean_text'], y, test_size=0.1, random_state=9)\n"
      ],
      "execution_count": null,
      "outputs": []
    },
    {
      "cell_type": "code",
      "metadata": {
        "id": "pQhyGpZQiYBs",
        "colab_type": "code",
        "colab": {}
      },
      "source": [
        "# create TF-IDF features\n",
        "xtrain_tfidf = tfidf_vectorizer.fit_transform(xtrain)\n",
        "xval_tfidf = tfidf_vectorizer.transform(xval)\n"
      ],
      "execution_count": null,
      "outputs": []
    },
    {
      "cell_type": "markdown",
      "metadata": {
        "id": "x_Ip6ShRze0o",
        "colab_type": "text"
      },
      "source": [
        "Below we define the model. For this example a Logistic Regression is used and a One vs Rest Classifier to determine the relevance of each tag to the article. Thus, for each of the 105 cats it performs an LR and determines the probability of each cat being assigned that specific article, if above a .5 threshold then that is 1 of the labels assigned. This allows for multiple labels being assigned to a single document. "
      ]
    },
    {
      "cell_type": "code",
      "metadata": {
        "id": "GSoDcV7ZJjlQ",
        "colab_type": "code",
        "colab": {}
      },
      "source": [
        "from sklearn.linear_model import LogisticRegression\n",
        "\n",
        "# Binary Relevance\n",
        "from sklearn.multiclass import OneVsRestClassifier\n",
        "\n",
        "# Performance metric\n",
        "from sklearn.metrics import f1_score"
      ],
      "execution_count": null,
      "outputs": []
    },
    {
      "cell_type": "code",
      "metadata": {
        "id": "bTcsYq35OcUr",
        "colab_type": "code",
        "colab": {}
      },
      "source": [
        "lr = LogisticRegression()\n",
        "clf = OneVsRestClassifier(lr)"
      ],
      "execution_count": null,
      "outputs": []
    },
    {
      "cell_type": "markdown",
      "metadata": {
        "id": "01bOj79nm0XN",
        "colab_type": "text"
      },
      "source": [
        "Let's fit the model. "
      ]
    },
    {
      "cell_type": "code",
      "metadata": {
        "id": "58NPLxUFsPH_",
        "colab_type": "code",
        "colab": {
          "base_uri": "https://localhost:8080/",
          "height": 195
        },
        "outputId": "5b55f9f1-02ce-48a2-f30e-bd9c23b86568"
      },
      "source": [
        "# fit model on train data\n",
        "clf.fit(xtrain_tfidf, ytrain)"
      ],
      "execution_count": null,
      "outputs": [
        {
          "output_type": "execute_result",
          "data": {
            "text/plain": [
              "OneVsRestClassifier(estimator=LogisticRegression(C=1.0, class_weight=None,\n",
              "                                                 dual=False, fit_intercept=True,\n",
              "                                                 intercept_scaling=1,\n",
              "                                                 l1_ratio=None, max_iter=100,\n",
              "                                                 multi_class='auto',\n",
              "                                                 n_jobs=None, penalty='l2',\n",
              "                                                 random_state=None,\n",
              "                                                 solver='lbfgs', tol=0.0001,\n",
              "                                                 verbose=0, warm_start=False),\n",
              "                    n_jobs=None)"
            ]
          },
          "metadata": {
            "tags": []
          },
          "execution_count": 37
        }
      ]
    },
    {
      "cell_type": "code",
      "metadata": {
        "id": "-C535aNp2Hz5",
        "colab_type": "code",
        "colab": {}
      },
      "source": [
        "# make predictions for validation set\n",
        "y_pred = clf.predict(xval_tfidf)\n",
        "y_score = clf.predict_proba(xval_tfidf)"
      ],
      "execution_count": null,
      "outputs": []
    },
    {
      "cell_type": "markdown",
      "metadata": {
        "id": "qwL7Cy6r0fbh",
        "colab_type": "text"
      },
      "source": [
        "Let's see what the model predicted for an article."
      ]
    },
    {
      "cell_type": "code",
      "metadata": {
        "id": "YlXbN1zN4GOA",
        "colab_type": "code",
        "colab": {
          "base_uri": "https://localhost:8080/",
          "height": 106
        },
        "outputId": "582cc94a-43c8-49ec-85ec-3648d071a3c1"
      },
      "source": [
        "y_pred[3]\n"
      ],
      "execution_count": null,
      "outputs": [
        {
          "output_type": "execute_result",
          "data": {
            "text/plain": [
              "array([0, 0, 1, 0, 0, 0, 0, 0, 0, 0, 0, 0, 0, 0, 0, 0, 0, 0, 0, 0, 0, 0,\n",
              "       0, 0, 0, 0, 0, 0, 0, 0, 0, 0, 0, 0, 0, 0, 0, 0, 0, 0, 0, 0, 0, 0,\n",
              "       0, 0, 0, 0, 0, 0, 0, 0, 0, 0, 0, 0, 0, 0, 0, 0, 0, 0, 0, 0, 0, 0,\n",
              "       0, 0, 0, 0, 0, 0, 0, 0, 0, 0, 0, 0, 0, 0, 0, 0, 0, 0, 0, 0, 0, 0,\n",
              "       0, 0, 0, 0, 0, 0, 0, 0, 0, 0, 0, 0, 0, 0, 0, 0, 0])"
            ]
          },
          "metadata": {
            "tags": []
          },
          "execution_count": 43
        }
      ]
    },
    {
      "cell_type": "markdown",
      "metadata": {
        "id": "IHsJjye50jnn",
        "colab_type": "text"
      },
      "source": [
        "I'm not very good at reading binary so here's the predicted cats. "
      ]
    },
    {
      "cell_type": "code",
      "metadata": {
        "id": "_q5Z0QLZRnyG",
        "colab_type": "code",
        "colab": {
          "base_uri": "https://localhost:8080/",
          "height": 497
        },
        "outputId": "01208b6e-919c-4c9f-bc9f-1ea33282f875"
      },
      "source": [
        "y_score[4]"
      ],
      "execution_count": null,
      "outputs": [
        {
          "output_type": "execute_result",
          "data": {
            "text/plain": [
              "array([4.49255724e-03, 7.02844084e-04, 7.25949714e-03, 4.93461906e-03,\n",
              "       7.43974094e-01, 2.72048188e-04, 6.82688769e-03, 6.46052780e-04,\n",
              "       1.68451966e-03, 6.09559918e-03, 1.31167733e-02, 1.82385561e-03,\n",
              "       8.20675149e-02, 2.31232113e-03, 2.72048188e-04, 1.02741774e-03,\n",
              "       2.51803632e-02, 3.65170815e-03, 1.13464801e-02, 2.85784461e-03,\n",
              "       2.27120217e-03, 3.18588715e-03, 5.60642406e-03, 1.55650353e-03,\n",
              "       1.23376836e-03, 7.68217720e-04, 2.77449404e-03, 2.23926893e-03,\n",
              "       1.93733683e-02, 2.59925834e-03, 6.27209149e-03, 2.66342346e-02,\n",
              "       3.62107799e-03, 1.61587691e-03, 6.86773340e-03, 2.29621576e-03,\n",
              "       4.03356993e-03, 3.92984755e-03, 4.19809405e-04, 8.08030212e-03,\n",
              "       3.30961728e-03, 1.54366283e-03, 2.08795688e-03, 4.39804979e-04,\n",
              "       1.86194448e-03, 6.37175240e-03, 5.49996013e-03, 1.18623018e-02,\n",
              "       3.48129546e-03, 3.14931988e-03, 1.37537472e-02, 7.53359415e-03,\n",
              "       4.12372077e-04, 2.04181076e-04, 1.19953747e-02, 3.53748219e-03,\n",
              "       1.16409516e-03, 2.66456032e-03, 6.54006685e-03, 1.10215834e-02,\n",
              "       6.25346945e-03, 5.74651942e-03, 3.22501838e-03, 5.80941185e-04,\n",
              "       8.30384513e-03, 8.83506758e-03, 1.54512601e-01, 1.31823562e-04,\n",
              "       6.70710756e-04, 1.34447949e-03, 1.40673980e-04, 7.18496180e-04,\n",
              "       1.24806280e-03, 8.93173729e-03, 9.07007447e-04, 9.23485301e-01,\n",
              "       3.19952397e-03, 1.17916503e-02, 4.10078528e-03, 3.38050389e-03,\n",
              "       3.92212685e-03, 7.37213724e-03, 3.39125191e-03, 6.77498972e-04,\n",
              "       5.23611072e-03, 5.44965438e-03, 1.03318221e-02, 1.65738721e-03,\n",
              "       6.95678908e-04, 4.75239242e-03, 2.04181076e-04, 3.16617582e-03,\n",
              "       9.21089489e-04, 4.65043377e-04, 4.16329152e-04, 9.58834335e-04,\n",
              "       6.67788955e-03, 4.73103164e-03, 1.87307492e-03, 1.11845410e-02,\n",
              "       1.06291976e-03, 3.43619082e-03, 7.88634219e-04, 9.57119054e-03,\n",
              "       2.95780445e-04])"
            ]
          },
          "metadata": {
            "tags": []
          },
          "execution_count": 48
        }
      ]
    },
    {
      "cell_type": "code",
      "metadata": {
        "id": "CrxHPeceiI1x",
        "colab_type": "code",
        "colab": {}
      },
      "source": [
        "y_trash = (y_score > 0.5)\n"
      ],
      "execution_count": null,
      "outputs": []
    },
    {
      "cell_type": "code",
      "metadata": {
        "id": "aeFmkXGPiQ-v",
        "colab_type": "code",
        "colab": {
          "base_uri": "https://localhost:8080/",
          "height": 230
        },
        "outputId": "b3f5e99f-41b0-474e-b7d1-649e9578926e"
      },
      "source": [
        "(y_trash[100])"
      ],
      "execution_count": null,
      "outputs": [
        {
          "output_type": "execute_result",
          "data": {
            "text/plain": [
              "array([False, False, False, False, False, False, False, False, False,\n",
              "       False, False, False, False, False, False, False, False, False,\n",
              "       False, False, False, False, False, False, False, False, False,\n",
              "       False, False, False, False, False, False, False, False, False,\n",
              "       False, False, False, False, False, False, False, False, False,\n",
              "       False, False, False, False, False, False, False, False, False,\n",
              "       False, False, False, False, False,  True, False, False, False,\n",
              "       False, False, False,  True, False, False, False, False, False,\n",
              "       False, False, False, False, False, False, False, False, False,\n",
              "       False, False, False, False, False, False, False, False, False,\n",
              "       False, False, False, False, False, False, False, False, False,\n",
              "       False, False, False, False, False, False])"
            ]
          },
          "metadata": {
            "tags": []
          },
          "execution_count": 57
        }
      ]
    },
    {
      "cell_type": "code",
      "metadata": {
        "id": "rodtI9Yj2MCl",
        "colab_type": "code",
        "colab": {
          "base_uri": "https://localhost:8080/",
          "height": 35
        },
        "outputId": "ec87adaf-ea44-4c90-8bdb-992fb0634095"
      },
      "source": [
        "multilabel_binarizer.inverse_transform(y_pred)[100]\n"
      ],
      "execution_count": null,
      "outputs": [
        {
          "output_type": "execute_result",
          "data": {
            "text/plain": [
              "('Honduras', 'Law Enforcement')"
            ]
          },
          "metadata": {
            "tags": []
          },
          "execution_count": 58
        }
      ]
    },
    {
      "cell_type": "markdown",
      "metadata": {
        "id": "bcNnbqh90yRn",
        "colab_type": "text"
      },
      "source": [
        "And here are the actual cats, boom spot on!"
      ]
    },
    {
      "cell_type": "code",
      "metadata": {
        "id": "VyzpQYqJA04Y",
        "colab_type": "code",
        "colab": {
          "base_uri": "https://localhost:8080/",
          "height": 35
        },
        "outputId": "5d8c040b-baa4-4af4-b92f-654c9b5c95f9"
      },
      "source": [
        "multilabel_binarizer.inverse_transform(yval)[1]\n"
      ],
      "execution_count": null,
      "outputs": [
        {
          "output_type": "execute_result",
          "data": {
            "text/plain": [
              "('Colombia', 'Drug trafficking')"
            ]
          },
          "metadata": {
            "tags": []
          },
          "execution_count": 88
        }
      ]
    },
    {
      "cell_type": "markdown",
      "metadata": {
        "id": "QIisF7P_01bT",
        "colab_type": "text"
      },
      "source": [
        "Let's see what the micro-averaged f1 is. .74 which is farily good given the number of cats!"
      ]
    },
    {
      "cell_type": "code",
      "metadata": {
        "id": "H6NPz7ddxFjy",
        "colab_type": "code",
        "colab": {
          "base_uri": "https://localhost:8080/",
          "height": 35
        },
        "outputId": "4dd628ad-0e75-44f6-879b-471a6fbd8e08"
      },
      "source": [
        "f1_score(yval, y_pred, average=\"micro\")\n"
      ],
      "execution_count": null,
      "outputs": [
        {
          "output_type": "execute_result",
          "data": {
            "text/plain": [
              "0.7459123610202748"
            ]
          },
          "metadata": {
            "tags": []
          },
          "execution_count": 46
        }
      ]
    },
    {
      "cell_type": "code",
      "metadata": {
        "id": "lqx-xlBR6s69",
        "colab_type": "code",
        "colab": {}
      },
      "source": [
        "# Import Performance metrics\n",
        "from sklearn.metrics import roc_auc_score\n",
        "from sklearn.metrics import classification_report"
      ],
      "execution_count": null,
      "outputs": []
    },
    {
      "cell_type": "code",
      "metadata": {
        "id": "Xkmua7wz7LIe",
        "colab_type": "code",
        "colab": {
          "base_uri": "https://localhost:8080/",
          "height": 1000
        },
        "outputId": "8b6246f6-5662-4860-c9cb-a5180dab9afb"
      },
      "source": [
        "print(classification_report(yval, y_pred, target_names=multilabel_binarizer.classes_ ))"
      ],
      "execution_count": null,
      "outputs": [
        {
          "output_type": "stream",
          "text": [
            "                            precision    recall  f1-score   support\n",
            "\n",
            "                       AUC       1.00      0.15      0.27        13\n",
            "         Amigos dos Amigos       0.00      0.00      0.00         5\n",
            "                 Argentina       1.00      0.75      0.85        71\n",
            "          Arms Trafficking       1.00      0.60      0.75        35\n",
            "              Autodefensas       1.00      0.40      0.57        15\n",
            "                    Bagdad       0.00      0.00      0.00         0\n",
            "                 Barrio 18       0.70      0.54      0.61        59\n",
            "             Barrio Azteca       0.00      0.00      0.00         1\n",
            "                    Belize       0.00      0.00      0.00         9\n",
            "                   Bolivia       0.92      0.67      0.78        49\n",
            "                    Brazil       0.98      0.77      0.86       120\n",
            "                     CIACS       0.00      0.00      0.00         2\n",
            "     Caballeros Templarios       1.00      0.41      0.58        22\n",
            "                  Cachiros       1.00      0.80      0.89         5\n",
            "               Calor Calor       0.00      0.00      0.00         0\n",
            "                    Canada       0.00      0.00      0.00         0\n",
            "         Cartel de Jalisco       1.00      0.35      0.52        31\n",
            "          Cartel de Juárez       0.00      0.00      0.00         5\n",
            "         Cartel de Sinaloa       0.94      0.60      0.73        82\n",
            "           Cartel de Texis       1.00      0.33      0.50         9\n",
            "         Cartel de Tijuana       1.00      0.29      0.44         7\n",
            "       Cartel de los Soles       0.00      0.00      0.00        13\n",
            "          Cartel del Golfo       1.00      0.17      0.29        18\n",
            "Cartel del Norte del Valle       0.00      0.00      0.00         5\n",
            "              Chepe Diablo       1.00      0.33      0.50         3\n",
            "                Chepe Luna       0.00      0.00      0.00         0\n",
            "                     Chile       1.00      0.33      0.50        15\n",
            "                Colectivos       0.00      0.00      0.00         7\n",
            "                  Colombia       0.95      0.81      0.87       310\n",
            "          Comando Vermelho       0.50      0.09      0.15        11\n",
            "                Contraband       0.96      0.54      0.69        41\n",
            "                Corruption       0.90      0.61      0.73       153\n",
            "                Costa Rica       1.00      0.63      0.77        35\n",
            "               Counterfeit       0.00      0.00      0.00         1\n",
            "        Criminal Migration       0.00      0.00      0.00        26\n",
            "                      Cuba       0.00      0.00      0.00         6\n",
            "               Cyber Crime       0.00      0.00      0.00         4\n",
            "        Dominican Republic       1.00      0.10      0.18        10\n",
            "                 Don Berna       0.00      0.00      0.00         0\n",
            "          Drug trafficking       0.88      0.41      0.56        74\n",
            "                       ELN       1.00      0.63      0.77        38\n",
            "                       EPL       1.00      0.43      0.60         7\n",
            "                       EPP       1.00      0.92      0.96        13\n",
            "                       EPR       0.00      0.00      0.00         2\n",
            "                     ERPAC       1.00      0.40      0.57         5\n",
            "           Eco-Trafficking       1.00      0.33      0.50        15\n",
            "                   Ecuador       1.00      0.48      0.65        46\n",
            "               El Salvador       0.95      0.76      0.85       148\n",
            "                     Empty       0.00      0.00      0.00         9\n",
            "             Ex-FARC Mafia       1.00      0.22      0.36        18\n",
            "                 Extortion       0.94      0.35      0.51        46\n",
            "                      FARC       0.92      0.79      0.85       100\n",
            "                       FBL       0.00      0.00      0.00         1\n",
            "         Francisco Zeledon       0.00      0.00      0.00         0\n",
            "                 Guatemala       0.97      0.75      0.85       126\n",
            "          Guerreros Unidos       0.50      0.10      0.17        10\n",
            "                    Guyana       0.00      0.00      0.00         2\n",
            "                     Haiti       0.00      0.00      0.00         4\n",
            "                 Homicides       0.94      0.45      0.61        97\n",
            "                  Honduras       0.98      0.75      0.85       114\n",
            "         Human Trafficking       0.95      0.64      0.76        58\n",
            "            Illegal Mining       1.00      0.56      0.71        27\n",
            "                   Jamaica       1.00      0.33      0.50        12\n",
            "              Juan Chamale       0.00      0.00      0.00         1\n",
            "                Kidnapping       0.93      0.40      0.56        35\n",
            "     La Familia Michoacana       0.75      0.27      0.40        11\n",
            "           Law Enforcement       0.81      0.57      0.67       333\n",
            "                    Leones       0.00      0.00      0.00         1\n",
            "  Libertadores del Vichada       0.00      0.00      0.00         0\n",
            "                Lorenzanas       0.00      0.00      0.00         2\n",
            "            Los Caparrapos       0.00      0.00      0.00         0\n",
            "                Los Machos       0.00      0.00      0.00         2\n",
            "              Los Perrones       0.00      0.00      0.00         1\n",
            "                      MS13       0.81      0.61      0.70        77\n",
            "                  Mendozas       0.00      0.00      0.00         2\n",
            "                    Mexico       0.97      0.90      0.93       423\n",
            "           Milicias Brasil       0.00      0.00      0.00         6\n",
            "          Money Laundering       0.96      0.44      0.61        61\n",
            "                 Nicaragua       1.00      0.47      0.64        30\n",
            "       Oficina de Envigado       1.00      0.33      0.50         9\n",
            "                 Oil Theft       1.00      0.36      0.53        14\n",
            "Organización Beltrán Leyva       0.33      0.07      0.11        15\n",
            "                       PCC       0.83      0.77      0.80        13\n",
            "                    Paisas       0.00      0.00      0.00         1\n",
            "                    Panama       1.00      0.50      0.67        24\n",
            "                  Paraguay       0.97      0.63      0.76        46\n",
            "                      Peru       0.98      0.63      0.77        79\n",
            "               Puerto Rico       1.00      0.43      0.60         7\n",
            "               Puntilleros       0.00      0.00      0.00         2\n",
            "                 Rastrojos       1.00      0.56      0.72        25\n",
            "                  Reñazcos       0.00      0.00      0.00         0\n",
            "          Sendero Luminoso       0.85      0.61      0.71        18\n",
            "                  Suriname       0.00      0.00      0.00         0\n",
            "                  Tarzanes       0.00      0.00      0.00         2\n",
            "       Tercer Comando Puro       0.00      0.00      0.00         2\n",
            "                       USA       0.00      0.00      0.00         0\n",
            "                  Urabeños       0.86      0.46      0.60        39\n",
            "                   Uruguay       1.00      0.28      0.43        18\n",
            "                    Valles       1.00      0.50      0.67         4\n",
            "                 Venezuela       1.00      0.79      0.89       112\n",
            "           Victor Carranza       0.00      0.00      0.00         1\n",
            "                Vigilantes       1.00      0.42      0.59        19\n",
            "           Walter Overdick       0.00      0.00      0.00         0\n",
            "                     Zetas       0.97      0.54      0.69        67\n",
            "            Águilas Negras       0.00      0.00      0.00         1\n",
            "\n",
            "                 micro avg       0.93      0.62      0.75      3673\n",
            "                 macro avg       0.56      0.30      0.37      3673\n",
            "              weighted avg       0.90      0.62      0.72      3673\n",
            "               samples avg       0.86      0.67      0.72      3673\n",
            "\n"
          ],
          "name": "stdout"
        },
        {
          "output_type": "stream",
          "text": [
            "/usr/local/lib/python3.6/dist-packages/sklearn/metrics/_classification.py:1272: UndefinedMetricWarning: Precision and F-score are ill-defined and being set to 0.0 in labels with no predicted samples. Use `zero_division` parameter to control this behavior.\n",
            "  _warn_prf(average, modifier, msg_start, len(result))\n",
            "/usr/local/lib/python3.6/dist-packages/sklearn/metrics/_classification.py:1272: UndefinedMetricWarning: Recall and F-score are ill-defined and being set to 0.0 in labels with no true samples. Use `zero_division` parameter to control this behavior.\n",
            "  _warn_prf(average, modifier, msg_start, len(result))\n",
            "/usr/local/lib/python3.6/dist-packages/sklearn/metrics/_classification.py:1272: UndefinedMetricWarning: Precision and F-score are ill-defined and being set to 0.0 in samples with no predicted labels. Use `zero_division` parameter to control this behavior.\n",
            "  _warn_prf(average, modifier, msg_start, len(result))\n"
          ],
          "name": "stderr"
        }
      ]
    },
    {
      "cell_type": "markdown",
      "metadata": {
        "id": "1-zCLWNZBg-Z",
        "colab_type": "text"
      },
      "source": [
        "The classification report above shows us how it did on specific categories. There are some that dont have enough observations. "
      ]
    },
    {
      "cell_type": "markdown",
      "metadata": {
        "id": "UsWfxFDO1ijL",
        "colab_type": "text"
      },
      "source": [
        "Now let's see how well it does on multiple articles and we'll ask it to print the title of the article for some context. "
      ]
    },
    {
      "cell_type": "code",
      "metadata": {
        "id": "byybDaUrCOln",
        "colab_type": "code",
        "colab": {}
      },
      "source": [
        "def infer_tags(q):\n",
        "    q = clean_text(q)\n",
        "    q = remove_stopwords(q)\n",
        "    q_vec = tfidf_vectorizer.transform([q])\n",
        "    q_pred = clf.predict(q_vec)\n",
        "    return multilabel_binarizer.inverse_transform(q_pred)"
      ],
      "execution_count": null,
      "outputs": []
    },
    {
      "cell_type": "code",
      "metadata": {
        "id": "CFpk8t_yCRG0",
        "colab_type": "code",
        "colab": {
          "base_uri": "https://localhost:8080/",
          "height": 461
        },
        "outputId": "67da6f0d-371d-4b00-c927-5bb5a9051034"
      },
      "source": [
        "for i in range(5): \n",
        "  k = xval.sample(1).index[0] \n",
        "  print(\"Title: \", df['title'][k], \"\\nPredicted tags: \", infer_tags(xval[k])), print(\"Revised tags: \",df['cats'][k]),  print(\"Original tags: \",df['tags'][k], \"\\n\")\n"
      ],
      "execution_count": null,
      "outputs": [
        {
          "output_type": "stream",
          "text": [
            "Title:  Arrest of El Salvador ‘Pastor’ Points to Gangs’ Social Integration \n",
            "Predicted tags:  [('El Salvador', 'MS13')]\n",
            "Revised tags:  ['El Salvador', 'MS13']\n",
            "Original tags:  El Salvador,MS13 \n",
            "\n",
            "Title:  Mexico’s Drug Lords: Too Big to Fail? \n",
            "Predicted tags:  [('Mexico',)]\n",
            "Revised tags:  ['Colombia', 'Mexico', 'Cartel de Sinaloa', 'Caballeros Templarios']\n",
            "Original tags:  Colombia,El Chapo,El Chayo,Mexico \n",
            "\n",
            "Title:  Questioning Ties Between Colombia Indigenous and FARC Rebels \n",
            "Predicted tags:  [('Colombia', 'FARC')]\n",
            "Revised tags:  ['Colombia', 'FARC']\n",
            "Original tags:  Colombia,FARC \n",
            "\n",
            "Title:  US Senate Caucus on International Narcotics Control: Responding to Violence in Central America \n",
            "Predicted tags:  [('El Salvador', 'Guatemala', 'Honduras')]\n",
            "Revised tags:  ['El Salvador', 'Guatemala', 'Honduras', 'Costa Rica', 'Nicaragua', 'Panama', 'Belize']\n",
            "Original tags:  Belize,Costa Rica,El Salvador,Guatemala,Honduras,Nicaragua,Panama \n",
            "\n",
            "Title:  Peru Issues ‘Red Alert’ for Capture of 90 Connected to Fujimori \n",
            "Predicted tags:  [('Corruption', 'Peru')]\n",
            "Revised tags:  ['Corruption', 'Peru']\n",
            "Original tags:  Elites and Organized Crime,Peru \n",
            "\n"
          ],
          "name": "stdout"
        }
      ]
    },
    {
      "cell_type": "markdown",
      "metadata": {
        "id": "U47AKFPE2UAF",
        "colab_type": "text"
      },
      "source": [
        "So it looks like for some tags it has no difficulty, but for others it struggles. I think the .5 threshold for acceptances is kind of high given the overlap between some categories. "
      ]
    },
    {
      "cell_type": "markdown",
      "metadata": {
        "id": "0H7-6CHfHPtB",
        "colab_type": "text"
      },
      "source": [
        "I also think this is task is too large for a single classifier to handle. It would be better if we took a nested category approach. For example, articles about Cartels be assigned into a macro category of DTO's then within this category classify only those articles with potential DTO's. This simplifies the classification process for the algorithm and eliminates much of the noise hurting our scores. "
      ]
    },
    {
      "cell_type": "markdown",
      "metadata": {
        "id": "_4NNkPlt3Tf3",
        "colab_type": "text"
      },
      "source": [
        "## Additional ML\n",
        "\n",
        "Now I try a multi-label lazy approach taken from https://towardsdatascience.com/journey-to-the-center-of-multi-label-classification-384c40229bff\n",
        "\n"
      ]
    },
    {
      "cell_type": "code",
      "metadata": {
        "id": "QZUXJBaOSvpF",
        "colab_type": "code",
        "colab": {
          "base_uri": "https://localhost:8080/",
          "height": 106
        },
        "outputId": "0e28bcbe-0852-43de-b25b-7db86b67692d"
      },
      "source": [
        "!pip install scikit-multilearn\n"
      ],
      "execution_count": null,
      "outputs": [
        {
          "output_type": "stream",
          "text": [
            "Collecting scikit-multilearn\n",
            "\u001b[?25l  Downloading https://files.pythonhosted.org/packages/bb/1f/e6ff649c72a1cdf2c7a1d31eb21705110ce1c5d3e7e26b2cc300e1637272/scikit_multilearn-0.2.0-py3-none-any.whl (89kB)\n",
            "\r\u001b[K     |███▊                            | 10kB 15.8MB/s eta 0:00:01\r\u001b[K     |███████▍                        | 20kB 3.0MB/s eta 0:00:01\r\u001b[K     |███████████                     | 30kB 3.8MB/s eta 0:00:01\r\u001b[K     |██████████████▊                 | 40kB 4.3MB/s eta 0:00:01\r\u001b[K     |██████████████████▍             | 51kB 3.4MB/s eta 0:00:01\r\u001b[K     |██████████████████████          | 61kB 3.7MB/s eta 0:00:01\r\u001b[K     |█████████████████████████▊      | 71kB 4.0MB/s eta 0:00:01\r\u001b[K     |█████████████████████████████▍  | 81kB 4.3MB/s eta 0:00:01\r\u001b[K     |████████████████████████████████| 92kB 3.4MB/s \n",
            "\u001b[?25hInstalling collected packages: scikit-multilearn\n",
            "Successfully installed scikit-multilearn-0.2.0\n"
          ],
          "name": "stdout"
        }
      ]
    },
    {
      "cell_type": "markdown",
      "metadata": {
        "id": "cFETdnkG3g5o",
        "colab_type": "text"
      },
      "source": [
        "Let's use a multi-label k-nearest neighbor algorithm. "
      ]
    },
    {
      "cell_type": "code",
      "metadata": {
        "id": "dx9Uf4kY5b1e",
        "colab_type": "code",
        "colab": {}
      },
      "source": [
        "import nltk\n",
        "\n",
        "from skmultilearn.adapt import MLkNN\n",
        "from scipy.sparse import csr_matrix, lil_matrix\n",
        "classifier_new = MLkNN(k=10)\n",
        "# Note that this classifier can throw up errors when handling sparse matrices.\n",
        "x_train = lil_matrix(xtrain_tfidf).toarray()\n",
        "y_train = lil_matrix(ytrain).toarray()\n",
        "x_test = lil_matrix(xval_tfidf).toarray()\n",
        "# train\n",
        "classifier_new.fit(x_train, y_train)\n",
        "# predict\n",
        "predictions_new = classifier_new.predict(x_test)\n"
      ],
      "execution_count": null,
      "outputs": []
    },
    {
      "cell_type": "markdown",
      "metadata": {
        "id": "z1Itr8DI3omd",
        "colab_type": "text"
      },
      "source": [
        "Doesn't do very well. I haven't played around too much with it."
      ]
    },
    {
      "cell_type": "code",
      "metadata": {
        "id": "AP52Rh8Gp3Xh",
        "colab_type": "code",
        "colab": {}
      },
      "source": [
        "from sklearn.metrics import accuracy_score\n",
        "\n",
        "# accuracy\n",
        "print(\"Accuracy = \",accuracy_score(yval,predictions_new))\n",
        "print(\"\\n\")"
      ],
      "execution_count": null,
      "outputs": []
    },
    {
      "cell_type": "markdown",
      "metadata": {
        "id": "68rU458T3-LJ",
        "colab_type": "text"
      },
      "source": [
        "## LDA Approach\n",
        "\n",
        "Just to understand the data better I implement an LDA. "
      ]
    },
    {
      "cell_type": "code",
      "metadata": {
        "id": "xzVh7cjVA0xH",
        "colab_type": "code",
        "colab": {
          "base_uri": "https://localhost:8080/",
          "height": 105
        },
        "outputId": "8e76efdd-0f68-4ad3-f174-2da0635973c4"
      },
      "source": [
        "%tensorflow_version 1.15.0\n",
        "from sklearn.feature_extraction.text import CountVectorizer\n",
        "from sklearn import decomposition\n",
        "import numpy"
      ],
      "execution_count": null,
      "outputs": [
        {
          "output_type": "stream",
          "text": [
            "`%tensorflow_version` only switches the major version: 1.x or 2.x.\n",
            "You set: `1.15.0`. This will be interpreted as: `1.x`.\n",
            "\n",
            "\n",
            "TensorFlow 1.x selected.\n"
          ],
          "name": "stdout"
        }
      ]
    },
    {
      "cell_type": "code",
      "metadata": {
        "id": "P0OSGDFAJ0cQ",
        "colab_type": "code",
        "colab": {}
      },
      "source": [
        "# create a count vectorizer object \n",
        "count_vect = CountVectorizer(analyzer='word', token_pattern=r'\\w{1,}')\n",
        "count_vect.fit(df['clean_text'])\n",
        "\n",
        "# transform the training and validation data using count vectorizer object\n",
        "xtrain_count =  count_vect.transform(xtrain)\n",
        "#xvalid_count =  count_vect.transform(valid_x)"
      ],
      "execution_count": null,
      "outputs": []
    },
    {
      "cell_type": "markdown",
      "metadata": {
        "id": "05b8YZ8JxTT8",
        "colab_type": "text"
      },
      "source": [
        "Below I use latent Dirichlet allocation to extract topic summaries for the entire data set. "
      ]
    },
    {
      "cell_type": "code",
      "metadata": {
        "id": "_Eo4cvRcKNS0",
        "colab_type": "code",
        "colab": {}
      },
      "source": [
        "# train a LDA Model\n",
        "lda_model = decomposition.LatentDirichletAllocation(n_components=20, learning_method='online', max_iter=20)\n",
        "X_topics = lda_model.fit_transform(xtrain_count)\n",
        "topic_word = lda_model.components_ \n",
        "vocab = count_vect.get_feature_names()\n",
        "\n"
      ],
      "execution_count": null,
      "outputs": []
    },
    {
      "cell_type": "code",
      "metadata": {
        "id": "bZDKi0AC36iC",
        "colab_type": "code",
        "colab": {}
      },
      "source": [
        "# view the topic models\n",
        "n_top_words = 10\n",
        "topic_summaries = []\n",
        "for i, topic_dist in enumerate(topic_word):\n",
        "    topic_words = numpy.array(vocab)[numpy.argsort(topic_dist)][:-(n_top_words+1):-1]\n",
        "    topic_summaries.append(' '.join(topic_words))"
      ],
      "execution_count": null,
      "outputs": []
    },
    {
      "cell_type": "markdown",
      "metadata": {
        "id": "CJqadumbxdOl",
        "colab_type": "text"
      },
      "source": [
        "Below I print out the topic summaries, to get an idea of what the text is about and to find any missing stopwords to add to the dictionary. "
      ]
    },
    {
      "cell_type": "code",
      "metadata": {
        "id": "_iO-EwQmKGFH",
        "colab_type": "code",
        "colab": {
          "base_uri": "https://localhost:8080/",
          "height": 372
        },
        "outputId": "8a0256bd-33af-4e9e-d00d-ced6a92803ac"
      },
      "source": [
        "topic_summaries"
      ],
      "execution_count": null,
      "outputs": [
        {
          "output_type": "execute_result",
          "data": {
            "text/plain": [
              "['insight crime artículo parte trabajo electrónico correo share policía si',\n",
              " 'miami cyber internet florida andrés online muerte santa patiño herald',\n",
              " 'farc eln paz guerrilla ejército epl cuba antioquia santander desmovilización',\n",
              " 's crime colombia insight us president also share drug former',\n",
              " 'guatemala cicig morales guatemalan molina pérez lima odebrecht baldetti shining',\n",
              " 'drug cocaine trafficking crime s insight share us colombia drugs',\n",
              " 'costa rica cartel mining nicaragua cjng jalisco gold michoacan illegal',\n",
              " 'drogas cocaína país ciento colombia parte crime insight artículo informe',\n",
              " 'ecuador guerrero veracruz duarte iguala students estudiantes guerreros unidos 43',\n",
              " 'salvador pandillas ms13 pandilleros barrio tregua pandilla 18 policía dos',\n",
              " 'paraguay brazil pcc brasil rio paulo brazilian janeiro são comando',\n",
              " 'argentina uruguay marihuana jamaica kirchner trinidad macri cannabis monos tobago',\n",
              " 'carranza penn giuliani cultural york emerald church moreira mancuso catalino',\n",
              " 'gang one t salvador s said police members gangs would',\n",
              " 'venezuela honduras hernández maduro venezuelan lobo caracas flores rivera cachiros',\n",
              " 'cartel salazar salvador texis chepe silva soccer umaña diablo rousseff',\n",
              " 'rosenthal ihss yani yankel hackers avionetas oea rapozo cibernético microsoft',\n",
              " 's crime mexico insight police share security work article also',\n",
              " 'peña michoacán nieto caballeros templarios autodefensas fútbol guerrero zetas autodefensa',\n",
              " 'oro ilegal contrabando madera bolívar venezolano venezuela venezolanos colombia frontera']"
            ]
          },
          "metadata": {
            "tags": []
          },
          "execution_count": 70
        }
      ]
    }
  ]
}